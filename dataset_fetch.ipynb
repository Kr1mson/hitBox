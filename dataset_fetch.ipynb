{
 "cells": [
  {
   "cell_type": "code",
   "execution_count": 41,
   "metadata": {},
   "outputs": [],
   "source": [
    "import requests\n",
    "import keys\n",
    "import pandas as pd"
   ]
  },
  {
   "cell_type": "code",
   "execution_count": 42,
   "metadata": {},
   "outputs": [],
   "source": [
    "# def fetch(fields, max_per_call=500):\n",
    "#     base_url = 'https://api.igdb.com/v4/age_ratings'\n",
    "#     headers = {\n",
    "#         'Client-ID': keys.API_CLIENT_ID,  \n",
    "#         'Authorization': f'Bearer {keys.API_AUTHORIZATION_TOKEN}', \n",
    "#     }\n",
    "    \n",
    "#     all_data = []\n",
    "#     offset = 0\n",
    "    \n",
    "#     while True:\n",
    "#         data = f\"fields {','.join(fields)}; limit {max_per_call}; offset {offset};\"\n",
    "#         response = requests.post(base_url, headers=headers, data=data)\n",
    "        \n",
    "#         if response.status_code != 200:\n",
    "#             print(f\"Error: {response.status_code}, {response.text}\")\n",
    "#             break\n",
    "        \n",
    "#         games = response.json()  \n",
    "        \n",
    "#         if not games:\n",
    "#             break\n",
    "#         all_data.extend(games)  \n",
    "#         print(f\"Scraped {offset+500} games\")\n",
    "#         if len(games) < max_per_call:\n",
    "#             break\n",
    "        \n",
    "#         offset += max_per_call  \n",
    "    \n",
    "#     return all_data  \n"
   ]
  },
  {
   "cell_type": "code",
   "execution_count": 41,
   "metadata": {},
   "outputs": [],
   "source": [
    "\n",
    "\n"
   ]
  },
  {
   "cell_type": "code",
   "execution_count": 43,
   "metadata": {},
   "outputs": [],
   "source": [
    "# fetched_games = fetch(fields)\n"
   ]
  },
  {
   "cell_type": "code",
   "execution_count": 44,
   "metadata": {},
   "outputs": [],
   "source": [
    "# print(len(fetched_games))\n",
    "# print(fetched_games[10])"
   ]
  },
  {
   "cell_type": "code",
   "execution_count": 45,
   "metadata": {},
   "outputs": [],
   "source": [
    "import requests\n",
    "\n",
    "def fetch():\n",
    "    base_url = 'https://api.igdb.com/v4/games'\n",
    "    headers = {\n",
    "        'Client-ID': keys.API_CLIENT_ID,  \n",
    "        'Authorization': f'Bearer {keys.API_AUTHORIZATION_TOKEN}', \n",
    "    }\n",
    "    \n",
    "    # Define the query for the game\n",
    "    data = \"\"\"fields \n",
    "        id, name, slug, summary, url, total_rating,\n",
    "        age_ratings.rating, age_ratings.category,first_release_date\n",
    "        game_modes.slug, genres.slug,\n",
    "        involved_companies.company.slug, involved_companies.developer, involved_companies.publisher,\n",
    "        keywords.slug, platforms.slug, player_perspectives.slug,\n",
    "        release_dates.date, release_dates.platform.slug,\n",
    "        artworks.url, artworks.image_id,\n",
    "        cover.url, cover.image_id,\n",
    "        screenshots.image_id, screenshots.url,\n",
    "        similar_games.slug,\n",
    "        videos.name, videos.video_id,\n",
    "        websites.url;\n",
    "        where id = 75235;\n",
    "    \"\"\"\n",
    "    \n",
    "    try:\n",
    "        response = requests.post(base_url, headers=headers, data=data)\n",
    "        \n",
    "        if response.status_code != 200:\n",
    "            print(f\"Error: {response.status_code}, {response.text}\")\n",
    "            return\n",
    "        \n",
    "        games = response.json()  \n",
    "        \n",
    "        if not games:\n",
    "            print(\"No game data found.\")\n",
    "            return None\n",
    "\n",
    "        return games\n",
    "    \n",
    "    except requests.RequestException as e:\n",
    "        print(f\"Request failed: {e}\")\n",
    "        return None\n"
   ]
  },
  {
   "cell_type": "code",
   "execution_count": 46,
   "metadata": {},
   "outputs": [],
   "source": [
    "fetched=fetch()"
   ]
  },
  {
   "cell_type": "code",
   "execution_count": 47,
   "metadata": {},
   "outputs": [],
   "source": [
    "df=pd.DataFrame(fetched)"
   ]
  },
  {
   "cell_type": "code",
   "execution_count": 48,
   "metadata": {},
   "outputs": [
    {
     "data": {
      "text/html": [
       "<div>\n",
       "<style scoped>\n",
       "    .dataframe tbody tr th:only-of-type {\n",
       "        vertical-align: middle;\n",
       "    }\n",
       "\n",
       "    .dataframe tbody tr th {\n",
       "        vertical-align: top;\n",
       "    }\n",
       "\n",
       "    .dataframe thead th {\n",
       "        text-align: right;\n",
       "    }\n",
       "</style>\n",
       "<table border=\"1\" class=\"dataframe\">\n",
       "  <thead>\n",
       "    <tr style=\"text-align: right;\">\n",
       "      <th></th>\n",
       "      <th>id</th>\n",
       "      <th>age_ratings</th>\n",
       "      <th>artworks</th>\n",
       "      <th>cover</th>\n",
       "      <th>game_modes</th>\n",
       "      <th>genres</th>\n",
       "      <th>involved_companies</th>\n",
       "      <th>keywords</th>\n",
       "      <th>name</th>\n",
       "      <th>platforms</th>\n",
       "      <th>player_perspectives</th>\n",
       "      <th>release_dates</th>\n",
       "      <th>screenshots</th>\n",
       "      <th>similar_games</th>\n",
       "      <th>slug</th>\n",
       "      <th>summary</th>\n",
       "      <th>total_rating</th>\n",
       "      <th>url</th>\n",
       "      <th>videos</th>\n",
       "      <th>websites</th>\n",
       "    </tr>\n",
       "  </thead>\n",
       "  <tbody>\n",
       "    <tr>\n",
       "      <th>0</th>\n",
       "      <td>75235</td>\n",
       "      <td>[{'id': 32742, 'category': 2, 'rating': 5}, {'...</td>\n",
       "      <td>[{'id': 5086, 'image_id': 'j7dbzjr8ddshnaewmb4...</td>\n",
       "      <td>{'id': 109855, 'image_id': 'co2crj', 'url': '/...</td>\n",
       "      <td>[{'id': 1, 'slug': 'single-player'}]</td>\n",
       "      <td>[{'id': 12, 'slug': 'role-playing-rpg'}, {'id'...</td>\n",
       "      <td>[{'id': 56819, 'company': {'id': 403, 'slug': ...</td>\n",
       "      <td>[{'id': 22, 'slug': 'assassin'}, {'id': 253, '...</td>\n",
       "      <td>Ghost of Tsushima</td>\n",
       "      <td>[{'id': 48, 'slug': 'ps4--1'}]</td>\n",
       "      <td>[{'id': 2, 'slug': 'third-person'}]</td>\n",
       "      <td>[{'id': 223511, 'date': 1594944000, 'platform'...</td>\n",
       "      <td>[{'id': 132328, 'image_id': 'hcfpcjiout0cmtttf...</td>\n",
       "      <td>[{'id': 10776, 'slug': 'rising-world'}, {'id':...</td>\n",
       "      <td>ghost-of-tsushima</td>\n",
       "      <td>Uncover the hidden wonders of Tsushima in this...</td>\n",
       "      <td>90.473182</td>\n",
       "      <td>https://www.igdb.com/games/ghost-of-tsushima</td>\n",
       "      <td>[{'id': 16583, 'name': 'PGW17 Trailer', 'video...</td>\n",
       "      <td>[{'id': 60919, 'url': 'https://www.suckerpunch...</td>\n",
       "    </tr>\n",
       "  </tbody>\n",
       "</table>\n",
       "</div>"
      ],
      "text/plain": [
       "      id                                        age_ratings  \\\n",
       "0  75235  [{'id': 32742, 'category': 2, 'rating': 5}, {'...   \n",
       "\n",
       "                                            artworks  \\\n",
       "0  [{'id': 5086, 'image_id': 'j7dbzjr8ddshnaewmb4...   \n",
       "\n",
       "                                               cover  \\\n",
       "0  {'id': 109855, 'image_id': 'co2crj', 'url': '/...   \n",
       "\n",
       "                             game_modes  \\\n",
       "0  [{'id': 1, 'slug': 'single-player'}]   \n",
       "\n",
       "                                              genres  \\\n",
       "0  [{'id': 12, 'slug': 'role-playing-rpg'}, {'id'...   \n",
       "\n",
       "                                  involved_companies  \\\n",
       "0  [{'id': 56819, 'company': {'id': 403, 'slug': ...   \n",
       "\n",
       "                                            keywords               name  \\\n",
       "0  [{'id': 22, 'slug': 'assassin'}, {'id': 253, '...  Ghost of Tsushima   \n",
       "\n",
       "                        platforms                  player_perspectives  \\\n",
       "0  [{'id': 48, 'slug': 'ps4--1'}]  [{'id': 2, 'slug': 'third-person'}]   \n",
       "\n",
       "                                       release_dates  \\\n",
       "0  [{'id': 223511, 'date': 1594944000, 'platform'...   \n",
       "\n",
       "                                         screenshots  \\\n",
       "0  [{'id': 132328, 'image_id': 'hcfpcjiout0cmtttf...   \n",
       "\n",
       "                                       similar_games               slug  \\\n",
       "0  [{'id': 10776, 'slug': 'rising-world'}, {'id':...  ghost-of-tsushima   \n",
       "\n",
       "                                             summary  total_rating  \\\n",
       "0  Uncover the hidden wonders of Tsushima in this...     90.473182   \n",
       "\n",
       "                                            url  \\\n",
       "0  https://www.igdb.com/games/ghost-of-tsushima   \n",
       "\n",
       "                                              videos  \\\n",
       "0  [{'id': 16583, 'name': 'PGW17 Trailer', 'video...   \n",
       "\n",
       "                                            websites  \n",
       "0  [{'id': 60919, 'url': 'https://www.suckerpunch...  "
      ]
     },
     "execution_count": 48,
     "metadata": {},
     "output_type": "execute_result"
    }
   ],
   "source": [
    "data=df[['age_ratings','game_modes','genres','involved_companies','keywords','platforms','player_perspectives','release_dates','total_rating']]\n",
    "df.head()"
   ]
  },
  {
   "cell_type": "code",
   "execution_count": 49,
   "metadata": {},
   "outputs": [
    {
     "name": "stdout",
     "output_type": "stream",
     "text": [
      "0    [{'id': 32742, 'category': 2, 'rating': 5}, {'...\n",
      "Name: age_ratings, dtype: object\n"
     ]
    }
   ],
   "source": [
    "print(data['age_ratings'])"
   ]
  },
  {
   "cell_type": "code",
   "execution_count": 50,
   "metadata": {},
   "outputs": [],
   "source": [
    "category_map = {\n",
    "    1: 'ESRB', \n",
    "    2: 'PEGI', \n",
    "    3: 'CERO', \n",
    "    4: 'USK', \n",
    "    5: 'GRAC', \n",
    "    6: 'CLASS_IND', \n",
    "    7: 'ACB'\n",
    "}\n",
    "\n",
    "rating_map = {\n",
    "    1: 'Three', 2: 'Seven', 3: 'Twelve', 4: 'Sixteen', 5: 'Eighteen',\n",
    "    6: 'RP', 7: 'EC', 8: 'E', 9: 'E10', 10: 'T', 11: 'M', 12: 'AO',\n",
    "    13: 'CERO_A', 14: 'CERO_B', 15: 'CERO_C', 16: 'CERO_D', 17: 'CERO_Z',\n",
    "    18: 'USK_0', 19: 'USK_6', 20: 'USK_12', 21: 'USK_16', 22: 'USK_18',\n",
    "    23: 'GRAC_ALL', 24: 'GRAC_Twelve', 25: 'GRAC_Fifteen', 26: 'GRAC_Eighteen',\n",
    "    27: 'GRAC_TESTING', 28: 'CLASS_IND_L', 29: 'CLASS_IND_Ten', 30: 'CLASS_IND_Twelve',\n",
    "    31: 'CLASS_IND_Fourteen', 32: 'CLASS_IND_Sixteen', 33: 'CLASS_IND_Eighteen',\n",
    "    34: 'ACB_G', 35: 'ACB_PG', 36: 'ACB_M', 37: 'ACB_MA15', 38: 'ACB_R18', 39: 'ACB_RC'\n",
    "}"
   ]
  },
  {
   "cell_type": "code",
   "execution_count": 68,
   "metadata": {},
   "outputs": [],
   "source": [
    "def transform_age_ratings(age_ratings):\n",
    "    return [\n",
    "        rating_map[rating['rating']]\n",
    "        for rating in age_ratings\n",
    "        if rating['category'] in [1, 2]\n",
    "    ]\n",
    "def get_slug(items):\n",
    "  return[\n",
    "    item['slug']\n",
    "    for item in items\n",
    "  ]\n",
    "def transform_companies(involved_companies):\n",
    "  return [\n",
    "      involved_company['company']['slug']\n",
    "      for involved_company in involved_companies\n",
    "      \n",
    "  ]\n",
    "def get_data"
   ]
  },
  {
   "cell_type": "code",
   "execution_count": 52,
   "metadata": {},
   "outputs": [
    {
     "name": "stderr",
     "output_type": "stream",
     "text": [
      "C:\\Users\\parth\\AppData\\Local\\Temp\\ipykernel_19040\\239051527.py:1: SettingWithCopyWarning: \n",
      "A value is trying to be set on a copy of a slice from a DataFrame.\n",
      "Try using .loc[row_indexer,col_indexer] = value instead\n",
      "\n",
      "See the caveats in the documentation: https://pandas.pydata.org/pandas-docs/stable/user_guide/indexing.html#returning-a-view-versus-a-copy\n",
      "  data['age_ratings'] = data['age_ratings'].apply(transform_age_ratings)\n"
     ]
    }
   ],
   "source": [
    "data['age_ratings'] = data['age_ratings'].apply(transform_age_ratings)"
   ]
  },
  {
   "cell_type": "code",
   "execution_count": 53,
   "metadata": {},
   "outputs": [
    {
     "name": "stderr",
     "output_type": "stream",
     "text": [
      "C:\\Users\\parth\\AppData\\Local\\Temp\\ipykernel_19040\\177017444.py:1: SettingWithCopyWarning: \n",
      "A value is trying to be set on a copy of a slice from a DataFrame.\n",
      "Try using .loc[row_indexer,col_indexer] = value instead\n",
      "\n",
      "See the caveats in the documentation: https://pandas.pydata.org/pandas-docs/stable/user_guide/indexing.html#returning-a-view-versus-a-copy\n",
      "  data['game_modes']=data['game_modes'].apply(get_slug)\n"
     ]
    }
   ],
   "source": [
    "data['game_modes']=data['game_modes'].apply(get_slug)"
   ]
  },
  {
   "cell_type": "code",
   "execution_count": 55,
   "metadata": {},
   "outputs": [
    {
     "name": "stderr",
     "output_type": "stream",
     "text": [
      "C:\\Users\\parth\\AppData\\Local\\Temp\\ipykernel_19040\\2614844176.py:1: SettingWithCopyWarning: \n",
      "A value is trying to be set on a copy of a slice from a DataFrame.\n",
      "Try using .loc[row_indexer,col_indexer] = value instead\n",
      "\n",
      "See the caveats in the documentation: https://pandas.pydata.org/pandas-docs/stable/user_guide/indexing.html#returning-a-view-versus-a-copy\n",
      "  data['genres']=df['genres'].apply(get_slug)\n"
     ]
    }
   ],
   "source": [
    "data['genres']=df['genres'].apply(get_slug)"
   ]
  },
  {
   "cell_type": "code",
   "execution_count": 59,
   "metadata": {},
   "outputs": [
    {
     "name": "stderr",
     "output_type": "stream",
     "text": [
      "C:\\Users\\parth\\AppData\\Local\\Temp\\ipykernel_19040\\2203567429.py:1: SettingWithCopyWarning: \n",
      "A value is trying to be set on a copy of a slice from a DataFrame.\n",
      "Try using .loc[row_indexer,col_indexer] = value instead\n",
      "\n",
      "See the caveats in the documentation: https://pandas.pydata.org/pandas-docs/stable/user_guide/indexing.html#returning-a-view-versus-a-copy\n",
      "  data['involved_companies']=df['involved_companies'].apply(transform_companies)\n"
     ]
    }
   ],
   "source": [
    "data['involved_companies']=df['involved_companies'].apply(transform_companies)"
   ]
  },
  {
   "cell_type": "code",
   "execution_count": 63,
   "metadata": {},
   "outputs": [
    {
     "name": "stderr",
     "output_type": "stream",
     "text": [
      "C:\\Users\\parth\\AppData\\Local\\Temp\\ipykernel_19040\\4055781139.py:1: SettingWithCopyWarning: \n",
      "A value is trying to be set on a copy of a slice from a DataFrame.\n",
      "Try using .loc[row_indexer,col_indexer] = value instead\n",
      "\n",
      "See the caveats in the documentation: https://pandas.pydata.org/pandas-docs/stable/user_guide/indexing.html#returning-a-view-versus-a-copy\n",
      "  data['keywords']=data['keywords'].apply(get_slug)\n"
     ]
    }
   ],
   "source": [
    "data['keywords']=data['keywords'].apply(get_slug)"
   ]
  },
  {
   "cell_type": "code",
   "execution_count": 66,
   "metadata": {},
   "outputs": [
    {
     "name": "stderr",
     "output_type": "stream",
     "text": [
      "C:\\Users\\parth\\AppData\\Local\\Temp\\ipykernel_19040\\132965791.py:1: SettingWithCopyWarning: \n",
      "A value is trying to be set on a copy of a slice from a DataFrame.\n",
      "Try using .loc[row_indexer,col_indexer] = value instead\n",
      "\n",
      "See the caveats in the documentation: https://pandas.pydata.org/pandas-docs/stable/user_guide/indexing.html#returning-a-view-versus-a-copy\n",
      "  data['platforms']=data['platforms'].apply(get_slug)\n"
     ]
    }
   ],
   "source": [
    "data['platforms']=data['platforms'].apply(get_slug)"
   ]
  },
  {
   "cell_type": "code",
   "execution_count": 69,
   "metadata": {},
   "outputs": [
    {
     "name": "stderr",
     "output_type": "stream",
     "text": [
      "C:\\Users\\parth\\AppData\\Local\\Temp\\ipykernel_19040\\2767212719.py:1: SettingWithCopyWarning: \n",
      "A value is trying to be set on a copy of a slice from a DataFrame.\n",
      "Try using .loc[row_indexer,col_indexer] = value instead\n",
      "\n",
      "See the caveats in the documentation: https://pandas.pydata.org/pandas-docs/stable/user_guide/indexing.html#returning-a-view-versus-a-copy\n",
      "  data['player_perspectives']=data['player_perspectives'].apply(get_slug)\n"
     ]
    }
   ],
   "source": [
    "data['player_perspectives']=data['player_perspectives'].apply(get_slug)"
   ]
  },
  {
   "cell_type": "code",
   "execution_count": 70,
   "metadata": {},
   "outputs": [
    {
     "data": {
      "text/html": [
       "<div>\n",
       "<style scoped>\n",
       "    .dataframe tbody tr th:only-of-type {\n",
       "        vertical-align: middle;\n",
       "    }\n",
       "\n",
       "    .dataframe tbody tr th {\n",
       "        vertical-align: top;\n",
       "    }\n",
       "\n",
       "    .dataframe thead th {\n",
       "        text-align: right;\n",
       "    }\n",
       "</style>\n",
       "<table border=\"1\" class=\"dataframe\">\n",
       "  <thead>\n",
       "    <tr style=\"text-align: right;\">\n",
       "      <th></th>\n",
       "      <th>age_ratings</th>\n",
       "      <th>game_modes</th>\n",
       "      <th>genres</th>\n",
       "      <th>involved_companies</th>\n",
       "      <th>keywords</th>\n",
       "      <th>platforms</th>\n",
       "      <th>player_perspectives</th>\n",
       "      <th>release_dates</th>\n",
       "      <th>total_rating</th>\n",
       "    </tr>\n",
       "  </thead>\n",
       "  <tbody>\n",
       "    <tr>\n",
       "      <th>0</th>\n",
       "      <td>[Eighteen, M]</td>\n",
       "      <td>[single-player]</td>\n",
       "      <td>[role-playing-rpg, hack-and-slash-beat-em-up, ...</td>\n",
       "      <td>[sucker-punch-productions, sony-interactive-en...</td>\n",
       "      <td>[assassin, samurai, action-adventure, japan, f...</td>\n",
       "      <td>[ps4--1]</td>\n",
       "      <td>[third-person]</td>\n",
       "      <td>[{'id': 223511, 'date': 1594944000, 'platform'...</td>\n",
       "      <td>90.473182</td>\n",
       "    </tr>\n",
       "  </tbody>\n",
       "</table>\n",
       "</div>"
      ],
      "text/plain": [
       "     age_ratings       game_modes  \\\n",
       "0  [Eighteen, M]  [single-player]   \n",
       "\n",
       "                                              genres  \\\n",
       "0  [role-playing-rpg, hack-and-slash-beat-em-up, ...   \n",
       "\n",
       "                                  involved_companies  \\\n",
       "0  [sucker-punch-productions, sony-interactive-en...   \n",
       "\n",
       "                                            keywords platforms  \\\n",
       "0  [assassin, samurai, action-adventure, japan, f...  [ps4--1]   \n",
       "\n",
       "  player_perspectives                                      release_dates  \\\n",
       "0      [third-person]  [{'id': 223511, 'date': 1594944000, 'platform'...   \n",
       "\n",
       "   total_rating  \n",
       "0     90.473182  "
      ]
     },
     "execution_count": 70,
     "metadata": {},
     "output_type": "execute_result"
    }
   ],
   "source": [
    "data.head()"
   ]
  },
  {
   "cell_type": "code",
   "execution_count": null,
   "metadata": {},
   "outputs": [],
   "source": []
  }
 ],
 "metadata": {
  "kernelspec": {
   "display_name": "Python 3",
   "language": "python",
   "name": "python3"
  },
  "language_info": {
   "codemirror_mode": {
    "name": "ipython",
    "version": 3
   },
   "file_extension": ".py",
   "mimetype": "text/x-python",
   "name": "python",
   "nbconvert_exporter": "python",
   "pygments_lexer": "ipython3",
   "version": "3.12.6"
  }
 },
 "nbformat": 4,
 "nbformat_minor": 2
}
