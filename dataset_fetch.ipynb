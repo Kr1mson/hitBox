{
 "cells": [
  {
   "cell_type": "code",
   "execution_count": 12,
   "metadata": {},
   "outputs": [],
   "source": [
    "import requests\n",
    "import keys\n",
    "import pandas as pd\n",
    "from datetime import datetime\n",
    "import numpy as np\n",
    "\n",
    "import re\n",
    "import unicodedata\n",
    "import string"
   ]
  },
  {
   "cell_type": "code",
   "execution_count": 2,
   "metadata": {},
   "outputs": [],
   "source": [
    "# base_url = 'https://id.twitch.tv/oauth2/token'\n",
    "# params = {\n",
    "#     'client_id': keys.API_CLIENT_ID,\n",
    "#     'client_secret': keys.API_CLIENT_SECRET,\n",
    "#     'grant_type': 'client_credentials'\n",
    "# }\n",
    "# response = requests.post(base_url, params=params)\n"
   ]
  },
  {
   "cell_type": "code",
   "execution_count": 3,
   "metadata": {},
   "outputs": [],
   "source": [
    "# print(response.json())"
   ]
  },
  {
   "cell_type": "code",
   "execution_count": 2,
   "metadata": {},
   "outputs": [],
   "source": [
    "def fetch():\n",
    "    base_url = 'https://api.igdb.com/v4/games'\n",
    "    headers = {\n",
    "        'Client-ID': keys.API_CLIENT_ID,\n",
    "        'Authorization': f'Bearer {keys.API_AUTHORIZATION_TOKEN}',\n",
    "    }\n",
    "    all_data = []\n",
    "    offset = 0\n",
    "\n",
    "    while True:\n",
    "        # Define the query for the game\n",
    "        data = f\"\"\"fields id, slug, summary, \n",
    "     genres.slug, keywords.slug, name,genres,keywords,\n",
    "    first_release_date,total_rating, cover.image_id; \n",
    "    where rating > 70 & first_release_date>1111977600;\n",
    "    limit 500; \n",
    "    offset {offset};\"\"\"\n",
    "\n",
    "        try:\n",
    "            # Make the POST request\n",
    "            response = requests.post(base_url, headers=headers, data=data)\n",
    "\n",
    "            # Check for non-200 status codes\n",
    "            if response.status_code != 200:\n",
    "                print(f\"Error: {response.status_code}, {response.text}\")\n",
    "                return\n",
    "\n",
    "            games = response.json()\n",
    "\n",
    "            # Check if no data is returned\n",
    "            if not games:\n",
    "                print(f\"No more games found at offset {offset}. Exiting.\")\n",
    "                break\n",
    "\n",
    "            # Append the games to the list\n",
    "            all_data.extend(games)\n",
    "            print(f\"Scraped {offset + len(games)} games\")\n",
    "\n",
    "            # Stop if fewer than 500 games are returned\n",
    "            if len(games) < 500:\n",
    "                break\n",
    "\n",
    "            # Increment the offset\n",
    "            offset += 500\n",
    "\n",
    "        except requests.RequestException as e:\n",
    "            print(f\"Request failed: {e}\")\n",
    "            break\n",
    "\n",
    "    return all_data"
   ]
  },
  {
   "cell_type": "code",
   "execution_count": 20,
   "metadata": {},
   "outputs": [
    {
     "name": "stdout",
     "output_type": "stream",
     "text": [
      "Scraped 500 games\n",
      "Scraped 1000 games\n",
      "Scraped 1500 games\n",
      "Scraped 2000 games\n",
      "Scraped 2500 games\n",
      "Scraped 3000 games\n",
      "Scraped 3500 games\n",
      "Scraped 4000 games\n",
      "Scraped 4500 games\n",
      "Scraped 5000 games\n",
      "Scraped 5500 games\n",
      "Scraped 6000 games\n",
      "Scraped 6500 games\n",
      "Scraped 7000 games\n",
      "Scraped 7500 games\n",
      "Scraped 8000 games\n",
      "Scraped 8500 games\n",
      "Scraped 9000 games\n",
      "Scraped 9020 games\n"
     ]
    }
   ],
   "source": [
    "fetched=fetch()"
   ]
  },
  {
   "cell_type": "code",
   "execution_count": 21,
   "metadata": {},
   "outputs": [],
   "source": [
    "df=pd.DataFrame(fetched)"
   ]
  },
  {
   "cell_type": "code",
   "execution_count": 22,
   "metadata": {},
   "outputs": [
    {
     "data": {
      "text/html": [
       "<div>\n",
       "<style scoped>\n",
       "    .dataframe tbody tr th:only-of-type {\n",
       "        vertical-align: middle;\n",
       "    }\n",
       "\n",
       "    .dataframe tbody tr th {\n",
       "        vertical-align: top;\n",
       "    }\n",
       "\n",
       "    .dataframe thead th {\n",
       "        text-align: right;\n",
       "    }\n",
       "</style>\n",
       "<table border=\"1\" class=\"dataframe\">\n",
       "  <thead>\n",
       "    <tr style=\"text-align: right;\">\n",
       "      <th></th>\n",
       "      <th>id</th>\n",
       "      <th>cover</th>\n",
       "      <th>first_release_date</th>\n",
       "      <th>genres</th>\n",
       "      <th>keywords</th>\n",
       "      <th>name</th>\n",
       "      <th>slug</th>\n",
       "      <th>summary</th>\n",
       "      <th>total_rating</th>\n",
       "    </tr>\n",
       "  </thead>\n",
       "  <tbody>\n",
       "    <tr>\n",
       "      <th>0</th>\n",
       "      <td>10184</td>\n",
       "      <td>{'id': 82735, 'image_id': 'co1ru7'}</td>\n",
       "      <td>1411430400</td>\n",
       "      <td>[{'id': 11, 'slug': 'real-time-strategy-rts'},...</td>\n",
       "      <td>[{'id': 77, 'slug': 'tower-defense'}, {'id': 5...</td>\n",
       "      <td>Defense Grid 2</td>\n",
       "      <td>defense-grid-2</td>\n",
       "      <td>Defense Grid 2, DG2, is the highly-anticipated...</td>\n",
       "      <td>82.923298</td>\n",
       "    </tr>\n",
       "    <tr>\n",
       "      <th>1</th>\n",
       "      <td>12329</td>\n",
       "      <td>{'id': 359313, 'image_id': 'co7p8x'}</td>\n",
       "      <td>1417046400</td>\n",
       "      <td>[{'id': 31, 'slug': 'adventure'}, {'id': 34, '...</td>\n",
       "      <td>[{'id': 226, 'slug': 'magic'}, {'id': 27094, '...</td>\n",
       "      <td>Fate/Hollow Ataraxia</td>\n",
       "      <td>fate-slash-hollow-ataraxia</td>\n",
       "      <td>Fate/Hollow Ataraxia is a Japanese visual nove...</td>\n",
       "      <td>96.469402</td>\n",
       "    </tr>\n",
       "    <tr>\n",
       "      <th>2</th>\n",
       "      <td>9592</td>\n",
       "      <td>{'id': 29732, 'image_id': 'o9uof8ogyhrmui43ql3i'}</td>\n",
       "      <td>1198800000</td>\n",
       "      <td>[{'id': 12, 'slug': 'role-playing-rpg'}, {'id'...</td>\n",
       "      <td>[{'id': 5, 'slug': 'zombies'}]</td>\n",
       "      <td>Sonny</td>\n",
       "      <td>sonny</td>\n",
       "      <td>Dear Human,\\n\\nZombies. You've shot them, stab...</td>\n",
       "      <td>73.342457</td>\n",
       "    </tr>\n",
       "    <tr>\n",
       "      <th>3</th>\n",
       "      <td>8734</td>\n",
       "      <td>{'id': 132464, 'image_id': 'co2u7k'}</td>\n",
       "      <td>1272326400</td>\n",
       "      <td>[{'id': 8, 'slug': 'platform'}, {'id': 32, 'sl...</td>\n",
       "      <td>[{'id': 599, 'slug': 'browser-based'}, {'id': ...</td>\n",
       "      <td>Super Mario Bros. Crossover</td>\n",
       "      <td>super-mario-bros-crossover</td>\n",
       "      <td>Super Mario Bros. Crossover is a fan-made cros...</td>\n",
       "      <td>89.941855</td>\n",
       "    </tr>\n",
       "    <tr>\n",
       "      <th>4</th>\n",
       "      <td>165304</td>\n",
       "      <td>{'id': 169868, 'image_id': 'co3n2k'}</td>\n",
       "      <td>1275264000</td>\n",
       "      <td>[{'id': 15, 'slug': 'strategy'}]</td>\n",
       "      <td>NaN</td>\n",
       "      <td>Age of War 2</td>\n",
       "      <td>age-of-war-2</td>\n",
       "      <td>Battle your way through the ages in this insan...</td>\n",
       "      <td>74.290353</td>\n",
       "    </tr>\n",
       "  </tbody>\n",
       "</table>\n",
       "</div>"
      ],
      "text/plain": [
       "       id                                              cover  \\\n",
       "0   10184                {'id': 82735, 'image_id': 'co1ru7'}   \n",
       "1   12329               {'id': 359313, 'image_id': 'co7p8x'}   \n",
       "2    9592  {'id': 29732, 'image_id': 'o9uof8ogyhrmui43ql3i'}   \n",
       "3    8734               {'id': 132464, 'image_id': 'co2u7k'}   \n",
       "4  165304               {'id': 169868, 'image_id': 'co3n2k'}   \n",
       "\n",
       "   first_release_date                                             genres  \\\n",
       "0          1411430400  [{'id': 11, 'slug': 'real-time-strategy-rts'},...   \n",
       "1          1417046400  [{'id': 31, 'slug': 'adventure'}, {'id': 34, '...   \n",
       "2          1198800000  [{'id': 12, 'slug': 'role-playing-rpg'}, {'id'...   \n",
       "3          1272326400  [{'id': 8, 'slug': 'platform'}, {'id': 32, 'sl...   \n",
       "4          1275264000                   [{'id': 15, 'slug': 'strategy'}]   \n",
       "\n",
       "                                            keywords  \\\n",
       "0  [{'id': 77, 'slug': 'tower-defense'}, {'id': 5...   \n",
       "1  [{'id': 226, 'slug': 'magic'}, {'id': 27094, '...   \n",
       "2                     [{'id': 5, 'slug': 'zombies'}]   \n",
       "3  [{'id': 599, 'slug': 'browser-based'}, {'id': ...   \n",
       "4                                                NaN   \n",
       "\n",
       "                          name                        slug  \\\n",
       "0               Defense Grid 2              defense-grid-2   \n",
       "1         Fate/Hollow Ataraxia  fate-slash-hollow-ataraxia   \n",
       "2                        Sonny                       sonny   \n",
       "3  Super Mario Bros. Crossover  super-mario-bros-crossover   \n",
       "4                 Age of War 2                age-of-war-2   \n",
       "\n",
       "                                             summary  total_rating  \n",
       "0  Defense Grid 2, DG2, is the highly-anticipated...     82.923298  \n",
       "1  Fate/Hollow Ataraxia is a Japanese visual nove...     96.469402  \n",
       "2  Dear Human,\\n\\nZombies. You've shot them, stab...     73.342457  \n",
       "3  Super Mario Bros. Crossover is a fan-made cros...     89.941855  \n",
       "4  Battle your way through the ages in this insan...     74.290353  "
      ]
     },
     "execution_count": 22,
     "metadata": {},
     "output_type": "execute_result"
    }
   ],
   "source": [
    "df.head()"
   ]
  },
  {
   "cell_type": "code",
   "execution_count": 23,
   "metadata": {},
   "outputs": [],
   "source": [
    "def get_slug(items):\n",
    "    if pd.isna(items).all() if isinstance(items, list) else pd.isna(items):\n",
    "        return []\n",
    "    \n",
    "    return [\n",
    "        item.get('slug', 'unknown')  \n",
    "        for item in items\n",
    "    ]\n",
    "\n",
    "\n",
    "\n",
    "def get_time(unix):\n",
    "    if pd.isna(unix):\n",
    "        return None  \n",
    "    return datetime.fromtimestamp(unix)\n"
   ]
  },
  {
   "cell_type": "code",
   "execution_count": 24,
   "metadata": {},
   "outputs": [],
   "source": [
    "df['genres']=df['genres'].apply(get_slug)"
   ]
  },
  {
   "cell_type": "code",
   "execution_count": 25,
   "metadata": {},
   "outputs": [],
   "source": [
    "df['keywords']=df['keywords'].apply(get_slug)"
   ]
  },
  {
   "cell_type": "code",
   "execution_count": 26,
   "metadata": {},
   "outputs": [],
   "source": [
    "df['first_release_date']=df['first_release_date'].apply(get_time)"
   ]
  },
  {
   "cell_type": "code",
   "execution_count": 27,
   "metadata": {},
   "outputs": [],
   "source": [
    "df[\"genres\"] = df[\"genres\"].apply(lambda x: \" \".join(x) if isinstance(x, list) else str(x))\n",
    "df[\"keywords\"] = df[\"keywords\"].apply(lambda x: \" \".join(x) if isinstance(x, list) else str(x))"
   ]
  },
  {
   "cell_type": "code",
   "execution_count": 28,
   "metadata": {},
   "outputs": [],
   "source": [
    "df['cover'] = df['cover'].apply(\n",
    "    lambda x: f\"https://images.igdb.com/igdb/image/upload/t_cover_big/{x['image_id']}.jpg\" \n",
    "    if isinstance(x, dict) and 'image_id' in x else None\n",
    ")"
   ]
  },
  {
   "cell_type": "code",
   "execution_count": 29,
   "metadata": {},
   "outputs": [],
   "source": [
    "def clean_text(text):\n",
    "    if not isinstance(text, str):\n",
    "        text = str(text) if text is not None else \"\"\n",
    "    text = unicodedata.normalize('NFKC', text)\n",
    "\n",
    "    text = ''.join(c for c in text if c in string.printable)\n",
    "\n",
    "    text = re.sub(r'\\s+', ' ', text).strip()\n",
    "    return text"
   ]
  },
  {
   "cell_type": "code",
   "execution_count": 30,
   "metadata": {},
   "outputs": [],
   "source": [
    "df['genres'] = df['genres'].apply(clean_text)\n",
    "df['keywords'] = df['keywords'].apply(clean_text)\n",
    "df['summary'] = df['summary'].apply(clean_text)"
   ]
  },
  {
   "cell_type": "code",
   "execution_count": 31,
   "metadata": {},
   "outputs": [
    {
     "data": {
      "text/html": [
       "<div>\n",
       "<style scoped>\n",
       "    .dataframe tbody tr th:only-of-type {\n",
       "        vertical-align: middle;\n",
       "    }\n",
       "\n",
       "    .dataframe tbody tr th {\n",
       "        vertical-align: top;\n",
       "    }\n",
       "\n",
       "    .dataframe thead th {\n",
       "        text-align: right;\n",
       "    }\n",
       "</style>\n",
       "<table border=\"1\" class=\"dataframe\">\n",
       "  <thead>\n",
       "    <tr style=\"text-align: right;\">\n",
       "      <th></th>\n",
       "      <th>id</th>\n",
       "      <th>cover</th>\n",
       "      <th>first_release_date</th>\n",
       "      <th>genres</th>\n",
       "      <th>keywords</th>\n",
       "      <th>name</th>\n",
       "      <th>slug</th>\n",
       "      <th>summary</th>\n",
       "      <th>total_rating</th>\n",
       "    </tr>\n",
       "  </thead>\n",
       "  <tbody>\n",
       "    <tr>\n",
       "      <th>0</th>\n",
       "      <td>10184</td>\n",
       "      <td>https://images.igdb.com/igdb/image/upload/t_co...</td>\n",
       "      <td>2014-09-23 05:30:00</td>\n",
       "      <td>real-time-strategy-rts simulator strategy indie</td>\n",
       "      <td>tower-defense robots steam achievements steam-...</td>\n",
       "      <td>Defense Grid 2</td>\n",
       "      <td>defense-grid-2</td>\n",
       "      <td>Defense Grid 2, DG2, is the highly-anticipated...</td>\n",
       "      <td>82.923298</td>\n",
       "    </tr>\n",
       "    <tr>\n",
       "      <th>1</th>\n",
       "      <td>12329</td>\n",
       "      <td>https://images.igdb.com/igdb/image/upload/t_co...</td>\n",
       "      <td>2014-11-27 05:30:00</td>\n",
       "      <td>adventure visual-novel</td>\n",
       "      <td>magic nsfw-version-exists</td>\n",
       "      <td>Fate/Hollow Ataraxia</td>\n",
       "      <td>fate-slash-hollow-ataraxia</td>\n",
       "      <td>Fate/Hollow Ataraxia is a Japanese visual nove...</td>\n",
       "      <td>96.469402</td>\n",
       "    </tr>\n",
       "    <tr>\n",
       "      <th>2</th>\n",
       "      <td>9592</td>\n",
       "      <td>https://images.igdb.com/igdb/image/upload/t_co...</td>\n",
       "      <td>2007-12-28 05:30:00</td>\n",
       "      <td>role-playing-rpg strategy adventure indie</td>\n",
       "      <td>zombies</td>\n",
       "      <td>Sonny</td>\n",
       "      <td>sonny</td>\n",
       "      <td>Dear Human, Zombies. You've shot them, stabbed...</td>\n",
       "      <td>73.342457</td>\n",
       "    </tr>\n",
       "    <tr>\n",
       "      <th>3</th>\n",
       "      <td>8734</td>\n",
       "      <td>https://images.igdb.com/igdb/image/upload/t_co...</td>\n",
       "      <td>2010-04-27 05:30:00</td>\n",
       "      <td>platform indie</td>\n",
       "      <td>browser-based unofficial zelda free-to-play ma...</td>\n",
       "      <td>Super Mario Bros. Crossover</td>\n",
       "      <td>super-mario-bros-crossover</td>\n",
       "      <td>Super Mario Bros. Crossover is a fan-made cros...</td>\n",
       "      <td>89.941855</td>\n",
       "    </tr>\n",
       "    <tr>\n",
       "      <th>4</th>\n",
       "      <td>165304</td>\n",
       "      <td>https://images.igdb.com/igdb/image/upload/t_co...</td>\n",
       "      <td>2010-05-31 05:30:00</td>\n",
       "      <td>strategy</td>\n",
       "      <td></td>\n",
       "      <td>Age of War 2</td>\n",
       "      <td>age-of-war-2</td>\n",
       "      <td>Battle your way through the ages in this insan...</td>\n",
       "      <td>74.290353</td>\n",
       "    </tr>\n",
       "  </tbody>\n",
       "</table>\n",
       "</div>"
      ],
      "text/plain": [
       "       id                                              cover  \\\n",
       "0   10184  https://images.igdb.com/igdb/image/upload/t_co...   \n",
       "1   12329  https://images.igdb.com/igdb/image/upload/t_co...   \n",
       "2    9592  https://images.igdb.com/igdb/image/upload/t_co...   \n",
       "3    8734  https://images.igdb.com/igdb/image/upload/t_co...   \n",
       "4  165304  https://images.igdb.com/igdb/image/upload/t_co...   \n",
       "\n",
       "   first_release_date                                           genres  \\\n",
       "0 2014-09-23 05:30:00  real-time-strategy-rts simulator strategy indie   \n",
       "1 2014-11-27 05:30:00                           adventure visual-novel   \n",
       "2 2007-12-28 05:30:00        role-playing-rpg strategy adventure indie   \n",
       "3 2010-04-27 05:30:00                                   platform indie   \n",
       "4 2010-05-31 05:30:00                                         strategy   \n",
       "\n",
       "                                            keywords  \\\n",
       "0  tower-defense robots steam achievements steam-...   \n",
       "1                          magic nsfw-version-exists   \n",
       "2                                            zombies   \n",
       "3  browser-based unofficial zelda free-to-play ma...   \n",
       "4                                                      \n",
       "\n",
       "                          name                        slug  \\\n",
       "0               Defense Grid 2              defense-grid-2   \n",
       "1         Fate/Hollow Ataraxia  fate-slash-hollow-ataraxia   \n",
       "2                        Sonny                       sonny   \n",
       "3  Super Mario Bros. Crossover  super-mario-bros-crossover   \n",
       "4                 Age of War 2                age-of-war-2   \n",
       "\n",
       "                                             summary  total_rating  \n",
       "0  Defense Grid 2, DG2, is the highly-anticipated...     82.923298  \n",
       "1  Fate/Hollow Ataraxia is a Japanese visual nove...     96.469402  \n",
       "2  Dear Human, Zombies. You've shot them, stabbed...     73.342457  \n",
       "3  Super Mario Bros. Crossover is a fan-made cros...     89.941855  \n",
       "4  Battle your way through the ages in this insan...     74.290353  "
      ]
     },
     "execution_count": 31,
     "metadata": {},
     "output_type": "execute_result"
    }
   ],
   "source": [
    "df.head()"
   ]
  },
  {
   "cell_type": "code",
   "execution_count": 32,
   "metadata": {},
   "outputs": [
    {
     "data": {
      "text/plain": [
       "(9020, 9)"
      ]
     },
     "execution_count": 32,
     "metadata": {},
     "output_type": "execute_result"
    }
   ],
   "source": [
    "df.shape"
   ]
  },
  {
   "cell_type": "code",
   "execution_count": 33,
   "metadata": {},
   "outputs": [
    {
     "data": {
      "text/plain": [
       "id                     0\n",
       "cover                 41\n",
       "first_release_date     0\n",
       "genres                 0\n",
       "keywords               0\n",
       "name                   0\n",
       "slug                   0\n",
       "summary                0\n",
       "total_rating           0\n",
       "dtype: int64"
      ]
     },
     "execution_count": 33,
     "metadata": {},
     "output_type": "execute_result"
    }
   ],
   "source": [
    "df.isnull().sum()"
   ]
  },
  {
   "cell_type": "code",
   "execution_count": 34,
   "metadata": {},
   "outputs": [],
   "source": [
    "df.dropna(inplace=True)"
   ]
  },
  {
   "cell_type": "code",
   "execution_count": 35,
   "metadata": {},
   "outputs": [
    {
     "data": {
      "text/plain": [
       "(8979, 9)"
      ]
     },
     "execution_count": 35,
     "metadata": {},
     "output_type": "execute_result"
    }
   ],
   "source": [
    "df.shape"
   ]
  },
  {
   "cell_type": "code",
   "execution_count": 36,
   "metadata": {},
   "outputs": [],
   "source": [
    "df = df.drop_duplicates(subset=['name'])"
   ]
  },
  {
   "cell_type": "code",
   "execution_count": 40,
   "metadata": {},
   "outputs": [
    {
     "data": {
      "text/plain": [
       "'https://images.igdb.com/igdb/image/upload/t_cover_big/co63nd.jpg'"
      ]
     },
     "execution_count": 40,
     "metadata": {},
     "output_type": "execute_result"
    }
   ],
   "source": [
    "cover_url =df['cover'].iloc[10]\n",
    "cover_url"
   ]
  },
  {
   "cell_type": "code",
   "execution_count": 41,
   "metadata": {},
   "outputs": [],
   "source": [
    "from PIL import Image\n",
    "import requests\n",
    "from io import BytesIO\n",
    "response = requests.get(cover_url)\n",
    "image = Image.open(BytesIO(response.content))\n",
    "image.show()"
   ]
  },
  {
   "cell_type": "code",
   "execution_count": 42,
   "metadata": {},
   "outputs": [],
   "source": [
    "df.to_csv('data.csv',index=False)"
   ]
  },
  {
   "cell_type": "code",
   "execution_count": null,
   "metadata": {},
   "outputs": [],
   "source": []
  },
  {
   "cell_type": "code",
   "execution_count": null,
   "metadata": {},
   "outputs": [],
   "source": []
  }
 ],
 "metadata": {
  "kernelspec": {
   "display_name": "Python 3",
   "language": "python",
   "name": "python3"
  },
  "language_info": {
   "codemirror_mode": {
    "name": "ipython",
    "version": 3
   },
   "file_extension": ".py",
   "mimetype": "text/x-python",
   "name": "python",
   "nbconvert_exporter": "python",
   "pygments_lexer": "ipython3",
   "version": "3.12.6"
  }
 },
 "nbformat": 4,
 "nbformat_minor": 2
}
