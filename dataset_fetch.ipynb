{
 "cells": [
  {
   "cell_type": "code",
   "execution_count": 80,
   "metadata": {},
   "outputs": [],
   "source": [
    "import requests\n",
    "import keys\n",
    "import pandas as pd\n",
    "from datetime import datetime\n",
    "import numpy as np\n",
    "import json"
   ]
  },
  {
   "cell_type": "code",
   "execution_count": 81,
   "metadata": {},
   "outputs": [],
   "source": [
    "# base_url = 'https://id.twitch.tv/oauth2/token'\n",
    "# params = {\n",
    "#     'client_id': keys.API_CLIENT_ID,\n",
    "#     'client_secret': keys.API_CLIENT_SECRET,\n",
    "#     'grant_type': 'client_credentials'\n",
    "# }\n",
    "# response = requests.post(base_url, params=params)\n"
   ]
  },
  {
   "cell_type": "code",
   "execution_count": 82,
   "metadata": {},
   "outputs": [],
   "source": [
    "# print(response.json())"
   ]
  },
  {
   "cell_type": "code",
   "execution_count": 83,
   "metadata": {},
   "outputs": [],
   "source": [
    "def fetch():\n",
    "    base_url = 'https://api.igdb.com/v4/games'\n",
    "    headers = {\n",
    "        'Client-ID': keys.API_CLIENT_ID,\n",
    "        'Authorization': f'Bearer {keys.API_AUTHORIZATION_TOKEN}',\n",
    "    }\n",
    "    all_data = []\n",
    "    offset = 0\n",
    "\n",
    "    while True:\n",
    "        # Define the query for the game\n",
    "        data = f\"\"\"fields id, slug, summary, \n",
    "     genres.slug, keywords.slug, name,\n",
    "    first_release_date; \n",
    "    where rating > 70 & first_release_date>1111977600;\n",
    "    limit 500; \n",
    "    offset {offset};\"\"\"\n",
    "\n",
    "        try:\n",
    "            # Make the POST request\n",
    "            response = requests.post(base_url, headers=headers, data=data)\n",
    "\n",
    "            # Check for non-200 status codes\n",
    "            if response.status_code != 200:\n",
    "                print(f\"Error: {response.status_code}, {response.text}\")\n",
    "                return\n",
    "\n",
    "            games = response.json()\n",
    "\n",
    "            # Check if no data is returned\n",
    "            if not games:\n",
    "                print(f\"No more games found at offset {offset}. Exiting.\")\n",
    "                break\n",
    "\n",
    "            # Append the games to the list\n",
    "            all_data.extend(games)\n",
    "            print(f\"Scraped {offset + len(games)} games\")\n",
    "\n",
    "            # Stop if fewer than 500 games are returned\n",
    "            if len(games) < 500:\n",
    "                break\n",
    "\n",
    "            # Increment the offset\n",
    "            offset += 500\n",
    "\n",
    "        except requests.RequestException as e:\n",
    "            print(f\"Request failed: {e}\")\n",
    "            break\n",
    "\n",
    "    return all_data"
   ]
  },
  {
   "cell_type": "code",
   "execution_count": 84,
   "metadata": {},
   "outputs": [
    {
     "name": "stdout",
     "output_type": "stream",
     "text": [
      "Scraped 500 games\n",
      "Scraped 1000 games\n",
      "Scraped 1500 games\n",
      "Scraped 2000 games\n",
      "Scraped 2500 games\n",
      "Scraped 3000 games\n",
      "Scraped 3500 games\n",
      "Scraped 4000 games\n",
      "Scraped 4500 games\n",
      "Scraped 5000 games\n",
      "Scraped 5500 games\n",
      "Scraped 6000 games\n",
      "Scraped 6500 games\n",
      "Scraped 7000 games\n",
      "Scraped 7500 games\n",
      "Scraped 8000 games\n",
      "Scraped 8500 games\n",
      "Scraped 8897 games\n"
     ]
    }
   ],
   "source": [
    "fetched=fetch()"
   ]
  },
  {
   "cell_type": "code",
   "execution_count": 85,
   "metadata": {},
   "outputs": [],
   "source": [
    "df=pd.DataFrame(fetched)"
   ]
  },
  {
   "cell_type": "code",
   "execution_count": 86,
   "metadata": {},
   "outputs": [
    {
     "data": {
      "text/html": [
       "<div>\n",
       "<style scoped>\n",
       "    .dataframe tbody tr th:only-of-type {\n",
       "        vertical-align: middle;\n",
       "    }\n",
       "\n",
       "    .dataframe tbody tr th {\n",
       "        vertical-align: top;\n",
       "    }\n",
       "\n",
       "    .dataframe thead th {\n",
       "        text-align: right;\n",
       "    }\n",
       "</style>\n",
       "<table border=\"1\" class=\"dataframe\">\n",
       "  <thead>\n",
       "    <tr style=\"text-align: right;\">\n",
       "      <th></th>\n",
       "      <th>id</th>\n",
       "      <th>first_release_date</th>\n",
       "      <th>genres</th>\n",
       "      <th>keywords</th>\n",
       "      <th>name</th>\n",
       "      <th>slug</th>\n",
       "      <th>summary</th>\n",
       "    </tr>\n",
       "  </thead>\n",
       "  <tbody>\n",
       "    <tr>\n",
       "      <th>0</th>\n",
       "      <td>6964</td>\n",
       "      <td>1173139200</td>\n",
       "      <td>[{'id': 4, 'slug': 'fighting'}, {'id': 7, 'slu...</td>\n",
       "      <td>[{'id': 61, 'slug': 'martial-arts'}, {'id': 97...</td>\n",
       "      <td>Def Jam: Icon</td>\n",
       "      <td>def-jam-icon</td>\n",
       "      <td>Infusing hip-hop music, culture and lifestyle ...</td>\n",
       "    </tr>\n",
       "    <tr>\n",
       "      <th>1</th>\n",
       "      <td>11137</td>\n",
       "      <td>1521504000</td>\n",
       "      <td>[{'id': 13, 'slug': 'simulator'}, {'id': 31, '...</td>\n",
       "      <td>[{'id': 4, 'slug': 'pirates'}, {'id': 72, 'slu...</td>\n",
       "      <td>Sea of Thieves</td>\n",
       "      <td>sea-of-thieves</td>\n",
       "      <td>Sea of Thieves offers the essential pirate exp...</td>\n",
       "    </tr>\n",
       "    <tr>\n",
       "      <th>2</th>\n",
       "      <td>122646</td>\n",
       "      <td>1563840000</td>\n",
       "      <td>[{'id': 13, 'slug': 'simulator'}]</td>\n",
       "      <td>[{'id': 129, 'slug': 'bloody'}, {'id': 287, 's...</td>\n",
       "      <td>People Playground</td>\n",
       "      <td>people-playground</td>\n",
       "      <td>Shoot, stab, burn, poison, tear, vaporise, or ...</td>\n",
       "    </tr>\n",
       "    <tr>\n",
       "      <th>3</th>\n",
       "      <td>131999</td>\n",
       "      <td>1619049600</td>\n",
       "      <td>[{'id': 12, 'slug': 'role-playing-rpg'}, {'id'...</td>\n",
       "      <td>[{'id': 1313, 'slug': 'multiple-endings'}, {'i...</td>\n",
       "      <td>NieR Replicant ver.1.22474487139...</td>\n",
       "      <td>nier-replicant-ver-dot-1-22474487139-dot-dot-dot</td>\n",
       "      <td>NieR Replicant ver.1.22474487139... is an upda...</td>\n",
       "    </tr>\n",
       "    <tr>\n",
       "      <th>4</th>\n",
       "      <td>394</td>\n",
       "      <td>1178582400</td>\n",
       "      <td>[{'id': 12, 'slug': 'role-playing-rpg'}, {'id'...</td>\n",
       "      <td>[{'id': 78, 'slug': 'anime'}, {'id': 151, 'slu...</td>\n",
       "      <td>Final Fantasy Tactics: The War of the Lions</td>\n",
       "      <td>final-fantasy-tactics-the-war-of-the-lions</td>\n",
       "      <td>An updated version of the PlayStation game Fin...</td>\n",
       "    </tr>\n",
       "  </tbody>\n",
       "</table>\n",
       "</div>"
      ],
      "text/plain": [
       "       id  first_release_date  \\\n",
       "0    6964          1173139200   \n",
       "1   11137          1521504000   \n",
       "2  122646          1563840000   \n",
       "3  131999          1619049600   \n",
       "4     394          1178582400   \n",
       "\n",
       "                                              genres  \\\n",
       "0  [{'id': 4, 'slug': 'fighting'}, {'id': 7, 'slu...   \n",
       "1  [{'id': 13, 'slug': 'simulator'}, {'id': 31, '...   \n",
       "2                  [{'id': 13, 'slug': 'simulator'}]   \n",
       "3  [{'id': 12, 'slug': 'role-playing-rpg'}, {'id'...   \n",
       "4  [{'id': 12, 'slug': 'role-playing-rpg'}, {'id'...   \n",
       "\n",
       "                                            keywords  \\\n",
       "0  [{'id': 61, 'slug': 'martial-arts'}, {'id': 97...   \n",
       "1  [{'id': 4, 'slug': 'pirates'}, {'id': 72, 'slu...   \n",
       "2  [{'id': 129, 'slug': 'bloody'}, {'id': 287, 's...   \n",
       "3  [{'id': 1313, 'slug': 'multiple-endings'}, {'i...   \n",
       "4  [{'id': 78, 'slug': 'anime'}, {'id': 151, 'slu...   \n",
       "\n",
       "                                          name  \\\n",
       "0                                Def Jam: Icon   \n",
       "1                               Sea of Thieves   \n",
       "2                            People Playground   \n",
       "3          NieR Replicant ver.1.22474487139...   \n",
       "4  Final Fantasy Tactics: The War of the Lions   \n",
       "\n",
       "                                               slug  \\\n",
       "0                                      def-jam-icon   \n",
       "1                                    sea-of-thieves   \n",
       "2                                 people-playground   \n",
       "3  nier-replicant-ver-dot-1-22474487139-dot-dot-dot   \n",
       "4        final-fantasy-tactics-the-war-of-the-lions   \n",
       "\n",
       "                                             summary  \n",
       "0  Infusing hip-hop music, culture and lifestyle ...  \n",
       "1  Sea of Thieves offers the essential pirate exp...  \n",
       "2  Shoot, stab, burn, poison, tear, vaporise, or ...  \n",
       "3  NieR Replicant ver.1.22474487139... is an upda...  \n",
       "4  An updated version of the PlayStation game Fin...  "
      ]
     },
     "execution_count": 86,
     "metadata": {},
     "output_type": "execute_result"
    }
   ],
   "source": [
    "df.head()"
   ]
  },
  {
   "cell_type": "code",
   "execution_count": 87,
   "metadata": {},
   "outputs": [],
   "source": [
    "def get_slug(items):\n",
    "    if pd.isna(items).all() if isinstance(items, list) else pd.isna(items):\n",
    "        return []\n",
    "    \n",
    "    return [\n",
    "        item.get('slug', 'unknown')  \n",
    "        for item in items\n",
    "    ]\n",
    "\n",
    "\n",
    "\n",
    "def get_time(unix):\n",
    "    if pd.isna(unix):\n",
    "        return None  \n",
    "    return datetime.fromtimestamp(unix)\n"
   ]
  },
  {
   "cell_type": "code",
   "execution_count": 88,
   "metadata": {},
   "outputs": [],
   "source": [
    "df['genres']=df['genres'].apply(get_slug)"
   ]
  },
  {
   "cell_type": "code",
   "execution_count": 89,
   "metadata": {},
   "outputs": [],
   "source": [
    "df['keywords']=df['keywords'].apply(get_slug)"
   ]
  },
  {
   "cell_type": "code",
   "execution_count": 90,
   "metadata": {},
   "outputs": [],
   "source": [
    "df['first_release_date']=df['first_release_date'].apply(get_time)"
   ]
  },
  {
   "cell_type": "code",
   "execution_count": 91,
   "metadata": {},
   "outputs": [
    {
     "data": {
      "text/html": [
       "<div>\n",
       "<style scoped>\n",
       "    .dataframe tbody tr th:only-of-type {\n",
       "        vertical-align: middle;\n",
       "    }\n",
       "\n",
       "    .dataframe tbody tr th {\n",
       "        vertical-align: top;\n",
       "    }\n",
       "\n",
       "    .dataframe thead th {\n",
       "        text-align: right;\n",
       "    }\n",
       "</style>\n",
       "<table border=\"1\" class=\"dataframe\">\n",
       "  <thead>\n",
       "    <tr style=\"text-align: right;\">\n",
       "      <th></th>\n",
       "      <th>id</th>\n",
       "      <th>first_release_date</th>\n",
       "      <th>genres</th>\n",
       "      <th>keywords</th>\n",
       "      <th>name</th>\n",
       "      <th>slug</th>\n",
       "      <th>summary</th>\n",
       "    </tr>\n",
       "  </thead>\n",
       "  <tbody>\n",
       "    <tr>\n",
       "      <th>0</th>\n",
       "      <td>6964</td>\n",
       "      <td>2007-03-06 05:30:00</td>\n",
       "      <td>[fighting, music]</td>\n",
       "      <td>[martial-arts, hand-to-hand-combat, achievemen...</td>\n",
       "      <td>Def Jam: Icon</td>\n",
       "      <td>def-jam-icon</td>\n",
       "      <td>Infusing hip-hop music, culture and lifestyle ...</td>\n",
       "    </tr>\n",
       "    <tr>\n",
       "      <th>1</th>\n",
       "      <td>11137</td>\n",
       "      <td>2018-03-20 05:30:00</td>\n",
       "      <td>[simulator, adventure]</td>\n",
       "      <td>[pirates, exploration, grinding, crafting, act...</td>\n",
       "      <td>Sea of Thieves</td>\n",
       "      <td>sea-of-thieves</td>\n",
       "      <td>Sea of Thieves offers the essential pirate exp...</td>\n",
       "    </tr>\n",
       "    <tr>\n",
       "      <th>2</th>\n",
       "      <td>122646</td>\n",
       "      <td>2019-07-23 05:30:00</td>\n",
       "      <td>[simulator]</td>\n",
       "      <td>[bloody, physics, 2d, death, gore, pixel-art, ...</td>\n",
       "      <td>People Playground</td>\n",
       "      <td>people-playground</td>\n",
       "      <td>Shoot, stab, burn, poison, tear, vaporise, or ...</td>\n",
       "    </tr>\n",
       "    <tr>\n",
       "      <th>3</th>\n",
       "      <td>131999</td>\n",
       "      <td>2021-04-22 05:30:00</td>\n",
       "      <td>[role-playing-rpg, adventure]</td>\n",
       "      <td>[multiple-endings, apocalyptic]</td>\n",
       "      <td>NieR Replicant ver.1.22474487139...</td>\n",
       "      <td>nier-replicant-ver-dot-1-22474487139-dot-dot-dot</td>\n",
       "      <td>NieR Replicant ver.1.22474487139... is an upda...</td>\n",
       "    </tr>\n",
       "    <tr>\n",
       "      <th>4</th>\n",
       "      <td>394</td>\n",
       "      <td>2007-05-08 05:30:00</td>\n",
       "      <td>[role-playing-rpg, simulator, strategy, turn-b...</td>\n",
       "      <td>[anime, medieval, jrpg, robots, party-based-co...</td>\n",
       "      <td>Final Fantasy Tactics: The War of the Lions</td>\n",
       "      <td>final-fantasy-tactics-the-war-of-the-lions</td>\n",
       "      <td>An updated version of the PlayStation game Fin...</td>\n",
       "    </tr>\n",
       "  </tbody>\n",
       "</table>\n",
       "</div>"
      ],
      "text/plain": [
       "       id  first_release_date  \\\n",
       "0    6964 2007-03-06 05:30:00   \n",
       "1   11137 2018-03-20 05:30:00   \n",
       "2  122646 2019-07-23 05:30:00   \n",
       "3  131999 2021-04-22 05:30:00   \n",
       "4     394 2007-05-08 05:30:00   \n",
       "\n",
       "                                              genres  \\\n",
       "0                                  [fighting, music]   \n",
       "1                             [simulator, adventure]   \n",
       "2                                        [simulator]   \n",
       "3                      [role-playing-rpg, adventure]   \n",
       "4  [role-playing-rpg, simulator, strategy, turn-b...   \n",
       "\n",
       "                                            keywords  \\\n",
       "0  [martial-arts, hand-to-hand-combat, achievemen...   \n",
       "1  [pirates, exploration, grinding, crafting, act...   \n",
       "2  [bloody, physics, 2d, death, gore, pixel-art, ...   \n",
       "3                    [multiple-endings, apocalyptic]   \n",
       "4  [anime, medieval, jrpg, robots, party-based-co...   \n",
       "\n",
       "                                          name  \\\n",
       "0                                Def Jam: Icon   \n",
       "1                               Sea of Thieves   \n",
       "2                            People Playground   \n",
       "3          NieR Replicant ver.1.22474487139...   \n",
       "4  Final Fantasy Tactics: The War of the Lions   \n",
       "\n",
       "                                               slug  \\\n",
       "0                                      def-jam-icon   \n",
       "1                                    sea-of-thieves   \n",
       "2                                 people-playground   \n",
       "3  nier-replicant-ver-dot-1-22474487139-dot-dot-dot   \n",
       "4        final-fantasy-tactics-the-war-of-the-lions   \n",
       "\n",
       "                                             summary  \n",
       "0  Infusing hip-hop music, culture and lifestyle ...  \n",
       "1  Sea of Thieves offers the essential pirate exp...  \n",
       "2  Shoot, stab, burn, poison, tear, vaporise, or ...  \n",
       "3  NieR Replicant ver.1.22474487139... is an upda...  \n",
       "4  An updated version of the PlayStation game Fin...  "
      ]
     },
     "execution_count": 91,
     "metadata": {},
     "output_type": "execute_result"
    }
   ],
   "source": [
    "df.head()"
   ]
  },
  {
   "cell_type": "code",
   "execution_count": 92,
   "metadata": {},
   "outputs": [
    {
     "data": {
      "text/plain": [
       "(8897, 7)"
      ]
     },
     "execution_count": 92,
     "metadata": {},
     "output_type": "execute_result"
    }
   ],
   "source": [
    "df.shape"
   ]
  },
  {
   "cell_type": "code",
   "execution_count": 93,
   "metadata": {},
   "outputs": [
    {
     "data": {
      "text/plain": [
       "id                     0\n",
       "first_release_date     0\n",
       "genres                 0\n",
       "keywords               0\n",
       "name                   0\n",
       "slug                   0\n",
       "summary               24\n",
       "dtype: int64"
      ]
     },
     "execution_count": 93,
     "metadata": {},
     "output_type": "execute_result"
    }
   ],
   "source": [
    "df.isnull().sum()"
   ]
  },
  {
   "cell_type": "code",
   "execution_count": 94,
   "metadata": {},
   "outputs": [],
   "source": [
    "df.dropna(inplace=True)"
   ]
  },
  {
   "cell_type": "code",
   "execution_count": 95,
   "metadata": {},
   "outputs": [],
   "source": [
    "df.to_csv('data.csv',index=False)"
   ]
  },
  {
   "cell_type": "code",
   "execution_count": null,
   "metadata": {},
   "outputs": [],
   "source": []
  }
 ],
 "metadata": {
  "kernelspec": {
   "display_name": "Python 3",
   "language": "python",
   "name": "python3"
  },
  "language_info": {
   "codemirror_mode": {
    "name": "ipython",
    "version": 3
   },
   "file_extension": ".py",
   "mimetype": "text/x-python",
   "name": "python",
   "nbconvert_exporter": "python",
   "pygments_lexer": "ipython3",
   "version": "3.12.6"
  }
 },
 "nbformat": 4,
 "nbformat_minor": 2
}
