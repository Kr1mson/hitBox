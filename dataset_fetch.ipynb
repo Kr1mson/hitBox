{
 "cells": [
  {
   "cell_type": "code",
   "execution_count": 1,
   "metadata": {},
   "outputs": [],
   "source": [
    "import requests\n",
    "import keys\n",
    "import pandas as pd\n",
    "from datetime import datetime\n",
    "import numpy as np\n",
    "import json"
   ]
  },
  {
   "cell_type": "code",
   "execution_count": 2,
   "metadata": {},
   "outputs": [],
   "source": [
    "# base_url = 'https://id.twitch.tv/oauth2/token'\n",
    "# params = {\n",
    "#     'client_id': keys.API_CLIENT_ID,\n",
    "#     'client_secret': keys.API_CLIENT_SECRET,\n",
    "#     'grant_type': 'client_credentials'\n",
    "# }\n",
    "# response = requests.post(base_url, params=params)\n"
   ]
  },
  {
   "cell_type": "code",
   "execution_count": 3,
   "metadata": {},
   "outputs": [],
   "source": [
    "# print(response.json())"
   ]
  },
  {
   "cell_type": "code",
   "execution_count": 4,
   "metadata": {},
   "outputs": [],
   "source": [
    "def fetch():\n",
    "    base_url = 'https://api.igdb.com/v4/games'\n",
    "    headers = {\n",
    "        'Client-ID': keys.API_CLIENT_ID,\n",
    "        'Authorization': f'Bearer {keys.API_AUTHORIZATION_TOKEN}',\n",
    "    }\n",
    "    all_data = []\n",
    "    offset = 0\n",
    "\n",
    "    while True:\n",
    "        # Define the query for the game\n",
    "        data = f\"\"\"fields id, slug, summary, \n",
    "     genres.slug, keywords.slug, name,genres,keywords,similar_games,\n",
    "    first_release_date,total_rating; \n",
    "    where rating > 70 & first_release_date>1111977600;\n",
    "    limit 500; \n",
    "    offset {offset};\"\"\"\n",
    "\n",
    "        try:\n",
    "            # Make the POST request\n",
    "            response = requests.post(base_url, headers=headers, data=data)\n",
    "\n",
    "            # Check for non-200 status codes\n",
    "            if response.status_code != 200:\n",
    "                print(f\"Error: {response.status_code}, {response.text}\")\n",
    "                return\n",
    "\n",
    "            games = response.json()\n",
    "\n",
    "            # Check if no data is returned\n",
    "            if not games:\n",
    "                print(f\"No more games found at offset {offset}. Exiting.\")\n",
    "                break\n",
    "\n",
    "            # Append the games to the list\n",
    "            all_data.extend(games)\n",
    "            print(f\"Scraped {offset + len(games)} games\")\n",
    "\n",
    "            # Stop if fewer than 500 games are returned\n",
    "            if len(games) < 500:\n",
    "                break\n",
    "\n",
    "            # Increment the offset\n",
    "            offset += 500\n",
    "\n",
    "        except requests.RequestException as e:\n",
    "            print(f\"Request failed: {e}\")\n",
    "            break\n",
    "\n",
    "    return all_data"
   ]
  },
  {
   "cell_type": "code",
   "execution_count": 5,
   "metadata": {},
   "outputs": [
    {
     "name": "stdout",
     "output_type": "stream",
     "text": [
      "Scraped 500 games\n",
      "Scraped 1000 games\n",
      "Scraped 1500 games\n",
      "Scraped 2000 games\n",
      "Scraped 2500 games\n",
      "Scraped 3000 games\n",
      "Scraped 3500 games\n",
      "Scraped 4000 games\n",
      "Scraped 4500 games\n",
      "Scraped 5000 games\n",
      "Scraped 5500 games\n",
      "Scraped 6000 games\n",
      "Scraped 6500 games\n",
      "Scraped 7000 games\n",
      "Scraped 7500 games\n",
      "Scraped 8000 games\n",
      "Scraped 8500 games\n",
      "Scraped 8913 games\n"
     ]
    }
   ],
   "source": [
    "fetched=fetch()"
   ]
  },
  {
   "cell_type": "code",
   "execution_count": 6,
   "metadata": {},
   "outputs": [],
   "source": [
    "df=pd.DataFrame(fetched)"
   ]
  },
  {
   "cell_type": "code",
   "execution_count": 7,
   "metadata": {},
   "outputs": [
    {
     "data": {
      "text/html": [
       "<div>\n",
       "<style scoped>\n",
       "    .dataframe tbody tr th:only-of-type {\n",
       "        vertical-align: middle;\n",
       "    }\n",
       "\n",
       "    .dataframe tbody tr th {\n",
       "        vertical-align: top;\n",
       "    }\n",
       "\n",
       "    .dataframe thead th {\n",
       "        text-align: right;\n",
       "    }\n",
       "</style>\n",
       "<table border=\"1\" class=\"dataframe\">\n",
       "  <thead>\n",
       "    <tr style=\"text-align: right;\">\n",
       "      <th></th>\n",
       "      <th>id</th>\n",
       "      <th>first_release_date</th>\n",
       "      <th>genres</th>\n",
       "      <th>keywords</th>\n",
       "      <th>name</th>\n",
       "      <th>similar_games</th>\n",
       "      <th>slug</th>\n",
       "      <th>summary</th>\n",
       "      <th>total_rating</th>\n",
       "    </tr>\n",
       "  </thead>\n",
       "  <tbody>\n",
       "    <tr>\n",
       "      <th>0</th>\n",
       "      <td>6964</td>\n",
       "      <td>1173139200</td>\n",
       "      <td>[{'id': 4, 'slug': 'fighting'}, {'id': 7, 'slu...</td>\n",
       "      <td>[{'id': 61, 'slug': 'martial-arts'}, {'id': 97...</td>\n",
       "      <td>Def Jam: Icon</td>\n",
       "      <td>[1244, 1246, 2574, 3875, 4755, 7498, 8479, 109...</td>\n",
       "      <td>def-jam-icon</td>\n",
       "      <td>Infusing hip-hop music, culture and lifestyle ...</td>\n",
       "      <td>73.324424</td>\n",
       "    </tr>\n",
       "    <tr>\n",
       "      <th>1</th>\n",
       "      <td>122646</td>\n",
       "      <td>1563840000</td>\n",
       "      <td>[{'id': 13, 'slug': 'simulator'}]</td>\n",
       "      <td>[{'id': 129, 'slug': 'bloody'}, {'id': 287, 's...</td>\n",
       "      <td>People Playground</td>\n",
       "      <td>[15536, 17131, 25311, 26574, 36553, 37419, 515...</td>\n",
       "      <td>people-playground</td>\n",
       "      <td>Shoot, stab, burn, poison, tear, vaporise, or ...</td>\n",
       "      <td>70.168166</td>\n",
       "    </tr>\n",
       "    <tr>\n",
       "      <th>2</th>\n",
       "      <td>394</td>\n",
       "      <td>1178582400</td>\n",
       "      <td>[{'id': 12, 'slug': 'role-playing-rpg'}, {'id'...</td>\n",
       "      <td>[{'id': 78, 'slug': 'anime'}, {'id': 151, 'slu...</td>\n",
       "      <td>Final Fantasy Tactics: The War of the Lions</td>\n",
       "      <td>[428, 5550, 9608, 10388, 14394, 22387, 26841, ...</td>\n",
       "      <td>final-fantasy-tactics-the-war-of-the-lions</td>\n",
       "      <td>An updated version of the PlayStation game Fin...</td>\n",
       "      <td>89.002382</td>\n",
       "    </tr>\n",
       "    <tr>\n",
       "      <th>3</th>\n",
       "      <td>9284</td>\n",
       "      <td>1417132800</td>\n",
       "      <td>[{'id': 8, 'slug': 'platform'}, {'id': 31, 'sl...</td>\n",
       "      <td>[{'id': 905, 'slug': 'difficult'}, {'id': 962,...</td>\n",
       "      <td>Wings of Vi</td>\n",
       "      <td>[24426, 28070, 28168, 28309, 29032, 36198, 478...</td>\n",
       "      <td>wings-of-vi</td>\n",
       "      <td>Wings of Vi is a challenging 2D platformer in ...</td>\n",
       "      <td>70.151379</td>\n",
       "    </tr>\n",
       "    <tr>\n",
       "      <th>4</th>\n",
       "      <td>46722</td>\n",
       "      <td>1417392000</td>\n",
       "      <td>[{'id': 12, 'slug': 'role-playing-rpg'}, {'id'...</td>\n",
       "      <td>[{'id': 5, 'slug': 'zombies'}, {'id': 122, 'sl...</td>\n",
       "      <td>Touhou Puppet Dance Performance</td>\n",
       "      <td>[105447, 137783, 206935, 210552, 210591, 21061...</td>\n",
       "      <td>touhou-puppet-dance-performance</td>\n",
       "      <td>Touhou Puppet Dance Performance is a spiritual...</td>\n",
       "      <td>89.858497</td>\n",
       "    </tr>\n",
       "  </tbody>\n",
       "</table>\n",
       "</div>"
      ],
      "text/plain": [
       "       id  first_release_date  \\\n",
       "0    6964          1173139200   \n",
       "1  122646          1563840000   \n",
       "2     394          1178582400   \n",
       "3    9284          1417132800   \n",
       "4   46722          1417392000   \n",
       "\n",
       "                                              genres  \\\n",
       "0  [{'id': 4, 'slug': 'fighting'}, {'id': 7, 'slu...   \n",
       "1                  [{'id': 13, 'slug': 'simulator'}]   \n",
       "2  [{'id': 12, 'slug': 'role-playing-rpg'}, {'id'...   \n",
       "3  [{'id': 8, 'slug': 'platform'}, {'id': 31, 'sl...   \n",
       "4  [{'id': 12, 'slug': 'role-playing-rpg'}, {'id'...   \n",
       "\n",
       "                                            keywords  \\\n",
       "0  [{'id': 61, 'slug': 'martial-arts'}, {'id': 97...   \n",
       "1  [{'id': 129, 'slug': 'bloody'}, {'id': 287, 's...   \n",
       "2  [{'id': 78, 'slug': 'anime'}, {'id': 151, 'slu...   \n",
       "3  [{'id': 905, 'slug': 'difficult'}, {'id': 962,...   \n",
       "4  [{'id': 5, 'slug': 'zombies'}, {'id': 122, 'sl...   \n",
       "\n",
       "                                          name  \\\n",
       "0                                Def Jam: Icon   \n",
       "1                            People Playground   \n",
       "2  Final Fantasy Tactics: The War of the Lions   \n",
       "3                                  Wings of Vi   \n",
       "4              Touhou Puppet Dance Performance   \n",
       "\n",
       "                                       similar_games  \\\n",
       "0  [1244, 1246, 2574, 3875, 4755, 7498, 8479, 109...   \n",
       "1  [15536, 17131, 25311, 26574, 36553, 37419, 515...   \n",
       "2  [428, 5550, 9608, 10388, 14394, 22387, 26841, ...   \n",
       "3  [24426, 28070, 28168, 28309, 29032, 36198, 478...   \n",
       "4  [105447, 137783, 206935, 210552, 210591, 21061...   \n",
       "\n",
       "                                         slug  \\\n",
       "0                                def-jam-icon   \n",
       "1                           people-playground   \n",
       "2  final-fantasy-tactics-the-war-of-the-lions   \n",
       "3                                 wings-of-vi   \n",
       "4             touhou-puppet-dance-performance   \n",
       "\n",
       "                                             summary  total_rating  \n",
       "0  Infusing hip-hop music, culture and lifestyle ...     73.324424  \n",
       "1  Shoot, stab, burn, poison, tear, vaporise, or ...     70.168166  \n",
       "2  An updated version of the PlayStation game Fin...     89.002382  \n",
       "3  Wings of Vi is a challenging 2D platformer in ...     70.151379  \n",
       "4  Touhou Puppet Dance Performance is a spiritual...     89.858497  "
      ]
     },
     "execution_count": 7,
     "metadata": {},
     "output_type": "execute_result"
    }
   ],
   "source": [
    "df.head()"
   ]
  },
  {
   "cell_type": "code",
   "execution_count": 8,
   "metadata": {},
   "outputs": [],
   "source": [
    "def get_slug(items):\n",
    "    if pd.isna(items).all() if isinstance(items, list) else pd.isna(items):\n",
    "        return []\n",
    "    \n",
    "    return [\n",
    "        item.get('slug', 'unknown')  \n",
    "        for item in items\n",
    "    ]\n",
    "\n",
    "\n",
    "\n",
    "def get_time(unix):\n",
    "    if pd.isna(unix):\n",
    "        return None  \n",
    "    return datetime.fromtimestamp(unix)\n"
   ]
  },
  {
   "cell_type": "code",
   "execution_count": 9,
   "metadata": {},
   "outputs": [],
   "source": [
    "df['genres']=df['genres'].apply(get_slug)"
   ]
  },
  {
   "cell_type": "code",
   "execution_count": 10,
   "metadata": {},
   "outputs": [],
   "source": [
    "df['keywords']=df['keywords'].apply(get_slug)"
   ]
  },
  {
   "cell_type": "code",
   "execution_count": 11,
   "metadata": {},
   "outputs": [],
   "source": [
    "df['first_release_date']=df['first_release_date'].apply(get_time)"
   ]
  },
  {
   "cell_type": "code",
   "execution_count": 12,
   "metadata": {},
   "outputs": [],
   "source": [
    "df[\"genres\"] = df[\"genres\"].apply(lambda x: \" \".join(x) if isinstance(x, list) else str(x))\n",
    "df[\"keywords\"] = df[\"keywords\"].apply(lambda x: \" \".join(x) if isinstance(x, list) else str(x))"
   ]
  },
  {
   "cell_type": "code",
   "execution_count": 13,
   "metadata": {},
   "outputs": [
    {
     "data": {
      "text/html": [
       "<div>\n",
       "<style scoped>\n",
       "    .dataframe tbody tr th:only-of-type {\n",
       "        vertical-align: middle;\n",
       "    }\n",
       "\n",
       "    .dataframe tbody tr th {\n",
       "        vertical-align: top;\n",
       "    }\n",
       "\n",
       "    .dataframe thead th {\n",
       "        text-align: right;\n",
       "    }\n",
       "</style>\n",
       "<table border=\"1\" class=\"dataframe\">\n",
       "  <thead>\n",
       "    <tr style=\"text-align: right;\">\n",
       "      <th></th>\n",
       "      <th>id</th>\n",
       "      <th>first_release_date</th>\n",
       "      <th>genres</th>\n",
       "      <th>keywords</th>\n",
       "      <th>name</th>\n",
       "      <th>similar_games</th>\n",
       "      <th>slug</th>\n",
       "      <th>summary</th>\n",
       "      <th>total_rating</th>\n",
       "    </tr>\n",
       "  </thead>\n",
       "  <tbody>\n",
       "    <tr>\n",
       "      <th>0</th>\n",
       "      <td>6964</td>\n",
       "      <td>2007-03-06 05:30:00</td>\n",
       "      <td>fighting music</td>\n",
       "      <td>martial-arts hand-to-hand-combat achievements ...</td>\n",
       "      <td>Def Jam: Icon</td>\n",
       "      <td>[1244, 1246, 2574, 3875, 4755, 7498, 8479, 109...</td>\n",
       "      <td>def-jam-icon</td>\n",
       "      <td>Infusing hip-hop music, culture and lifestyle ...</td>\n",
       "      <td>73.324424</td>\n",
       "    </tr>\n",
       "    <tr>\n",
       "      <th>1</th>\n",
       "      <td>122646</td>\n",
       "      <td>2019-07-23 05:30:00</td>\n",
       "      <td>simulator</td>\n",
       "      <td>bloody physics 2d death gore pixel-art ragdoll...</td>\n",
       "      <td>People Playground</td>\n",
       "      <td>[15536, 17131, 25311, 26574, 36553, 37419, 515...</td>\n",
       "      <td>people-playground</td>\n",
       "      <td>Shoot, stab, burn, poison, tear, vaporise, or ...</td>\n",
       "      <td>70.168166</td>\n",
       "    </tr>\n",
       "    <tr>\n",
       "      <th>2</th>\n",
       "      <td>394</td>\n",
       "      <td>2007-05-08 05:30:00</td>\n",
       "      <td>role-playing-rpg simulator strategy turn-based...</td>\n",
       "      <td>anime medieval jrpg robots party-based-combat ...</td>\n",
       "      <td>Final Fantasy Tactics: The War of the Lions</td>\n",
       "      <td>[428, 5550, 9608, 10388, 14394, 22387, 26841, ...</td>\n",
       "      <td>final-fantasy-tactics-the-war-of-the-lions</td>\n",
       "      <td>An updated version of the PlayStation game Fin...</td>\n",
       "      <td>89.002382</td>\n",
       "    </tr>\n",
       "    <tr>\n",
       "      <th>3</th>\n",
       "      <td>9284</td>\n",
       "      <td>2014-11-28 05:30:00</td>\n",
       "      <td>platform adventure indie</td>\n",
       "      <td>difficult female-protagonist action-adventure ...</td>\n",
       "      <td>Wings of Vi</td>\n",
       "      <td>[24426, 28070, 28168, 28309, 29032, 36198, 478...</td>\n",
       "      <td>wings-of-vi</td>\n",
       "      <td>Wings of Vi is a challenging 2D platformer in ...</td>\n",
       "      <td>70.151379</td>\n",
       "    </tr>\n",
       "    <tr>\n",
       "      <th>4</th>\n",
       "      <td>46722</td>\n",
       "      <td>2014-12-01 05:30:00</td>\n",
       "      <td>role-playing-rpg adventure indie</td>\n",
       "      <td>zombies hell vampire magic 2d pokemon jrpg fro...</td>\n",
       "      <td>Touhou Puppet Dance Performance</td>\n",
       "      <td>[105447, 137783, 206935, 210552, 210591, 21061...</td>\n",
       "      <td>touhou-puppet-dance-performance</td>\n",
       "      <td>Touhou Puppet Dance Performance is a spiritual...</td>\n",
       "      <td>89.858497</td>\n",
       "    </tr>\n",
       "  </tbody>\n",
       "</table>\n",
       "</div>"
      ],
      "text/plain": [
       "       id  first_release_date  \\\n",
       "0    6964 2007-03-06 05:30:00   \n",
       "1  122646 2019-07-23 05:30:00   \n",
       "2     394 2007-05-08 05:30:00   \n",
       "3    9284 2014-11-28 05:30:00   \n",
       "4   46722 2014-12-01 05:30:00   \n",
       "\n",
       "                                              genres  \\\n",
       "0                                     fighting music   \n",
       "1                                          simulator   \n",
       "2  role-playing-rpg simulator strategy turn-based...   \n",
       "3                           platform adventure indie   \n",
       "4                   role-playing-rpg adventure indie   \n",
       "\n",
       "                                            keywords  \\\n",
       "0  martial-arts hand-to-hand-combat achievements ...   \n",
       "1  bloody physics 2d death gore pixel-art ragdoll...   \n",
       "2  anime medieval jrpg robots party-based-combat ...   \n",
       "3  difficult female-protagonist action-adventure ...   \n",
       "4  zombies hell vampire magic 2d pokemon jrpg fro...   \n",
       "\n",
       "                                          name  \\\n",
       "0                                Def Jam: Icon   \n",
       "1                            People Playground   \n",
       "2  Final Fantasy Tactics: The War of the Lions   \n",
       "3                                  Wings of Vi   \n",
       "4              Touhou Puppet Dance Performance   \n",
       "\n",
       "                                       similar_games  \\\n",
       "0  [1244, 1246, 2574, 3875, 4755, 7498, 8479, 109...   \n",
       "1  [15536, 17131, 25311, 26574, 36553, 37419, 515...   \n",
       "2  [428, 5550, 9608, 10388, 14394, 22387, 26841, ...   \n",
       "3  [24426, 28070, 28168, 28309, 29032, 36198, 478...   \n",
       "4  [105447, 137783, 206935, 210552, 210591, 21061...   \n",
       "\n",
       "                                         slug  \\\n",
       "0                                def-jam-icon   \n",
       "1                           people-playground   \n",
       "2  final-fantasy-tactics-the-war-of-the-lions   \n",
       "3                                 wings-of-vi   \n",
       "4             touhou-puppet-dance-performance   \n",
       "\n",
       "                                             summary  total_rating  \n",
       "0  Infusing hip-hop music, culture and lifestyle ...     73.324424  \n",
       "1  Shoot, stab, burn, poison, tear, vaporise, or ...     70.168166  \n",
       "2  An updated version of the PlayStation game Fin...     89.002382  \n",
       "3  Wings of Vi is a challenging 2D platformer in ...     70.151379  \n",
       "4  Touhou Puppet Dance Performance is a spiritual...     89.858497  "
      ]
     },
     "execution_count": 13,
     "metadata": {},
     "output_type": "execute_result"
    }
   ],
   "source": [
    "df.head()"
   ]
  },
  {
   "cell_type": "code",
   "execution_count": 14,
   "metadata": {},
   "outputs": [
    {
     "data": {
      "text/plain": [
       "(8913, 9)"
      ]
     },
     "execution_count": 14,
     "metadata": {},
     "output_type": "execute_result"
    }
   ],
   "source": [
    "df.shape"
   ]
  },
  {
   "cell_type": "code",
   "execution_count": 15,
   "metadata": {},
   "outputs": [
    {
     "data": {
      "text/plain": [
       "id                      0\n",
       "first_release_date      0\n",
       "genres                  0\n",
       "keywords                0\n",
       "name                    0\n",
       "similar_games         103\n",
       "slug                    0\n",
       "summary                25\n",
       "total_rating            0\n",
       "dtype: int64"
      ]
     },
     "execution_count": 15,
     "metadata": {},
     "output_type": "execute_result"
    }
   ],
   "source": [
    "df.isnull().sum()"
   ]
  },
  {
   "cell_type": "code",
   "execution_count": 16,
   "metadata": {},
   "outputs": [],
   "source": [
    "df.dropna(inplace=True)"
   ]
  },
  {
   "cell_type": "code",
   "execution_count": 17,
   "metadata": {},
   "outputs": [
    {
     "data": {
      "text/plain": [
       "(8789, 9)"
      ]
     },
     "execution_count": 17,
     "metadata": {},
     "output_type": "execute_result"
    }
   ],
   "source": [
    "df.shape"
   ]
  },
  {
   "cell_type": "code",
   "execution_count": 18,
   "metadata": {},
   "outputs": [],
   "source": [
    "df = df.drop_duplicates(subset=['name'])"
   ]
  },
  {
   "cell_type": "code",
   "execution_count": 20,
   "metadata": {},
   "outputs": [
    {
     "data": {
      "text/plain": [
       "(8031, 9)"
      ]
     },
     "execution_count": 20,
     "metadata": {},
     "output_type": "execute_result"
    }
   ],
   "source": []
  },
  {
   "cell_type": "code",
   "execution_count": 21,
   "metadata": {},
   "outputs": [],
   "source": [
    "df.to_csv('data.csv',index=False)"
   ]
  },
  {
   "cell_type": "code",
   "execution_count": null,
   "metadata": {},
   "outputs": [],
   "source": []
  },
  {
   "cell_type": "code",
   "execution_count": null,
   "metadata": {},
   "outputs": [],
   "source": []
  }
 ],
 "metadata": {
  "kernelspec": {
   "display_name": "Python 3",
   "language": "python",
   "name": "python3"
  },
  "language_info": {
   "codemirror_mode": {
    "name": "ipython",
    "version": 3
   },
   "file_extension": ".py",
   "mimetype": "text/x-python",
   "name": "python",
   "nbconvert_exporter": "python",
   "pygments_lexer": "ipython3",
   "version": "3.12.6"
  }
 },
 "nbformat": 4,
 "nbformat_minor": 2
}
