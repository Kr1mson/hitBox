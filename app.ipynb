{
 "cells": [
  {
   "cell_type": "code",
   "execution_count": 2,
   "metadata": {},
   "outputs": [],
   "source": [
    "import pandas as pd\n",
    "import numpy as np"
   ]
  },
  {
   "cell_type": "code",
   "execution_count": 3,
   "metadata": {},
   "outputs": [],
   "source": [
    "data=pd.read_csv('data.csv')"
   ]
  },
  {
   "cell_type": "code",
   "execution_count": 4,
   "metadata": {},
   "outputs": [
    {
     "data": {
      "text/plain": [
       "(16331, 10)"
      ]
     },
     "execution_count": 4,
     "metadata": {},
     "output_type": "execute_result"
    }
   ],
   "source": [
    "data.shape"
   ]
  },
  {
   "cell_type": "code",
   "execution_count": 5,
   "metadata": {},
   "outputs": [
    {
     "data": {
      "text/html": [
       "<div>\n",
       "<style scoped>\n",
       "    .dataframe tbody tr th:only-of-type {\n",
       "        vertical-align: middle;\n",
       "    }\n",
       "\n",
       "    .dataframe tbody tr th {\n",
       "        vertical-align: top;\n",
       "    }\n",
       "\n",
       "    .dataframe thead th {\n",
       "        text-align: right;\n",
       "    }\n",
       "</style>\n",
       "<table border=\"1\" class=\"dataframe\">\n",
       "  <thead>\n",
       "    <tr style=\"text-align: right;\">\n",
       "      <th></th>\n",
       "      <th>id</th>\n",
       "      <th>age_ratings</th>\n",
       "      <th>first_release_date</th>\n",
       "      <th>game_modes</th>\n",
       "      <th>genres</th>\n",
       "      <th>involved_companies</th>\n",
       "      <th>keywords</th>\n",
       "      <th>platforms</th>\n",
       "      <th>player_perspectives</th>\n",
       "      <th>total_rating</th>\n",
       "    </tr>\n",
       "  </thead>\n",
       "  <tbody>\n",
       "    <tr>\n",
       "      <th>0</th>\n",
       "      <td>83466</td>\n",
       "      <td>['ESRB - E', 'PEGI - Three', 'GRAC - GRAC_ALL']</td>\n",
       "      <td>2020-01-16 05:30:00</td>\n",
       "      <td>['single-player']</td>\n",
       "      <td>['puzzle', 'strategy', 'turn-based-strategy-tb...</td>\n",
       "      <td>['baltoro-games']</td>\n",
       "      <td>[]</td>\n",
       "      <td>['switch']</td>\n",
       "      <td>[]</td>\n",
       "      <td>70.000000</td>\n",
       "    </tr>\n",
       "    <tr>\n",
       "      <th>1</th>\n",
       "      <td>9284</td>\n",
       "      <td>[]</td>\n",
       "      <td>2014-11-28 05:30:00</td>\n",
       "      <td>['single-player']</td>\n",
       "      <td>['platform', 'adventure', 'indie']</td>\n",
       "      <td>['grynsoft']</td>\n",
       "      <td>['difficult', 'female-protagonist', 'action-ad...</td>\n",
       "      <td>['win']</td>\n",
       "      <td>['side-view']</td>\n",
       "      <td>70.151379</td>\n",
       "    </tr>\n",
       "    <tr>\n",
       "      <th>2</th>\n",
       "      <td>46722</td>\n",
       "      <td>[]</td>\n",
       "      <td>2014-12-01 05:30:00</td>\n",
       "      <td>['single-player']</td>\n",
       "      <td>['role-playing-rpg', 'adventure', 'indie']</td>\n",
       "      <td>['focaslens']</td>\n",
       "      <td>['zombies', 'hell', 'vampire', 'magic', '2d', ...</td>\n",
       "      <td>['win']</td>\n",
       "      <td>['bird-view-slash-isometric']</td>\n",
       "      <td>89.858497</td>\n",
       "    </tr>\n",
       "    <tr>\n",
       "      <th>3</th>\n",
       "      <td>129381</td>\n",
       "      <td>[]</td>\n",
       "      <td>2020-01-28 05:30:00</td>\n",
       "      <td>['single-player']</td>\n",
       "      <td>['adventure', 'indie']</td>\n",
       "      <td>[]</td>\n",
       "      <td>[]</td>\n",
       "      <td>['win']</td>\n",
       "      <td>[]</td>\n",
       "      <td>70.000000</td>\n",
       "    </tr>\n",
       "    <tr>\n",
       "      <th>4</th>\n",
       "      <td>104060</td>\n",
       "      <td>['ESRB - E', 'PEGI - Three', 'GRAC - GRAC_ALL'...</td>\n",
       "      <td>2018-06-18 05:30:00</td>\n",
       "      <td>['single-player']</td>\n",
       "      <td>['puzzle', 'strategy', 'indie', 'arcade', 'car...</td>\n",
       "      <td>['xitilon', 'flying-islands-team', 'drageus-ga...</td>\n",
       "      <td>['sokoban']</td>\n",
       "      <td>['win', 'xboxone', 'switch']</td>\n",
       "      <td>['third-person', 'bird-view-slash-isometric']</td>\n",
       "      <td>70.000000</td>\n",
       "    </tr>\n",
       "  </tbody>\n",
       "</table>\n",
       "</div>"
      ],
      "text/plain": [
       "       id                                        age_ratings  \\\n",
       "0   83466    ['ESRB - E', 'PEGI - Three', 'GRAC - GRAC_ALL']   \n",
       "1    9284                                                 []   \n",
       "2   46722                                                 []   \n",
       "3  129381                                                 []   \n",
       "4  104060  ['ESRB - E', 'PEGI - Three', 'GRAC - GRAC_ALL'...   \n",
       "\n",
       "    first_release_date         game_modes  \\\n",
       "0  2020-01-16 05:30:00  ['single-player']   \n",
       "1  2014-11-28 05:30:00  ['single-player']   \n",
       "2  2014-12-01 05:30:00  ['single-player']   \n",
       "3  2020-01-28 05:30:00  ['single-player']   \n",
       "4  2018-06-18 05:30:00  ['single-player']   \n",
       "\n",
       "                                              genres  \\\n",
       "0  ['puzzle', 'strategy', 'turn-based-strategy-tb...   \n",
       "1                 ['platform', 'adventure', 'indie']   \n",
       "2         ['role-playing-rpg', 'adventure', 'indie']   \n",
       "3                             ['adventure', 'indie']   \n",
       "4  ['puzzle', 'strategy', 'indie', 'arcade', 'car...   \n",
       "\n",
       "                                  involved_companies  \\\n",
       "0                                  ['baltoro-games']   \n",
       "1                                       ['grynsoft']   \n",
       "2                                      ['focaslens']   \n",
       "3                                                 []   \n",
       "4  ['xitilon', 'flying-islands-team', 'drageus-ga...   \n",
       "\n",
       "                                            keywords  \\\n",
       "0                                                 []   \n",
       "1  ['difficult', 'female-protagonist', 'action-ad...   \n",
       "2  ['zombies', 'hell', 'vampire', 'magic', '2d', ...   \n",
       "3                                                 []   \n",
       "4                                        ['sokoban']   \n",
       "\n",
       "                      platforms  \\\n",
       "0                    ['switch']   \n",
       "1                       ['win']   \n",
       "2                       ['win']   \n",
       "3                       ['win']   \n",
       "4  ['win', 'xboxone', 'switch']   \n",
       "\n",
       "                             player_perspectives  total_rating  \n",
       "0                                             []     70.000000  \n",
       "1                                  ['side-view']     70.151379  \n",
       "2                  ['bird-view-slash-isometric']     89.858497  \n",
       "3                                             []     70.000000  \n",
       "4  ['third-person', 'bird-view-slash-isometric']     70.000000  "
      ]
     },
     "execution_count": 5,
     "metadata": {},
     "output_type": "execute_result"
    }
   ],
   "source": [
    "data.head()"
   ]
  },
  {
   "cell_type": "code",
   "execution_count": 6,
   "metadata": {},
   "outputs": [],
   "source": [
    "data.replace('[]',np.nan,inplace=True)"
   ]
  },
  {
   "cell_type": "code",
   "execution_count": 7,
   "metadata": {},
   "outputs": [
    {
     "data": {
      "text/html": [
       "<div>\n",
       "<style scoped>\n",
       "    .dataframe tbody tr th:only-of-type {\n",
       "        vertical-align: middle;\n",
       "    }\n",
       "\n",
       "    .dataframe tbody tr th {\n",
       "        vertical-align: top;\n",
       "    }\n",
       "\n",
       "    .dataframe thead th {\n",
       "        text-align: right;\n",
       "    }\n",
       "</style>\n",
       "<table border=\"1\" class=\"dataframe\">\n",
       "  <thead>\n",
       "    <tr style=\"text-align: right;\">\n",
       "      <th></th>\n",
       "      <th>id</th>\n",
       "      <th>age_ratings</th>\n",
       "      <th>first_release_date</th>\n",
       "      <th>game_modes</th>\n",
       "      <th>genres</th>\n",
       "      <th>involved_companies</th>\n",
       "      <th>keywords</th>\n",
       "      <th>platforms</th>\n",
       "      <th>player_perspectives</th>\n",
       "      <th>total_rating</th>\n",
       "    </tr>\n",
       "  </thead>\n",
       "  <tbody>\n",
       "    <tr>\n",
       "      <th>0</th>\n",
       "      <td>83466</td>\n",
       "      <td>['ESRB - E', 'PEGI - Three', 'GRAC - GRAC_ALL']</td>\n",
       "      <td>2020-01-16 05:30:00</td>\n",
       "      <td>['single-player']</td>\n",
       "      <td>['puzzle', 'strategy', 'turn-based-strategy-tb...</td>\n",
       "      <td>['baltoro-games']</td>\n",
       "      <td>NaN</td>\n",
       "      <td>['switch']</td>\n",
       "      <td>NaN</td>\n",
       "      <td>70.000000</td>\n",
       "    </tr>\n",
       "    <tr>\n",
       "      <th>1</th>\n",
       "      <td>9284</td>\n",
       "      <td>NaN</td>\n",
       "      <td>2014-11-28 05:30:00</td>\n",
       "      <td>['single-player']</td>\n",
       "      <td>['platform', 'adventure', 'indie']</td>\n",
       "      <td>['grynsoft']</td>\n",
       "      <td>['difficult', 'female-protagonist', 'action-ad...</td>\n",
       "      <td>['win']</td>\n",
       "      <td>['side-view']</td>\n",
       "      <td>70.151379</td>\n",
       "    </tr>\n",
       "    <tr>\n",
       "      <th>2</th>\n",
       "      <td>46722</td>\n",
       "      <td>NaN</td>\n",
       "      <td>2014-12-01 05:30:00</td>\n",
       "      <td>['single-player']</td>\n",
       "      <td>['role-playing-rpg', 'adventure', 'indie']</td>\n",
       "      <td>['focaslens']</td>\n",
       "      <td>['zombies', 'hell', 'vampire', 'magic', '2d', ...</td>\n",
       "      <td>['win']</td>\n",
       "      <td>['bird-view-slash-isometric']</td>\n",
       "      <td>89.858497</td>\n",
       "    </tr>\n",
       "    <tr>\n",
       "      <th>3</th>\n",
       "      <td>129381</td>\n",
       "      <td>NaN</td>\n",
       "      <td>2020-01-28 05:30:00</td>\n",
       "      <td>['single-player']</td>\n",
       "      <td>['adventure', 'indie']</td>\n",
       "      <td>NaN</td>\n",
       "      <td>NaN</td>\n",
       "      <td>['win']</td>\n",
       "      <td>NaN</td>\n",
       "      <td>70.000000</td>\n",
       "    </tr>\n",
       "    <tr>\n",
       "      <th>4</th>\n",
       "      <td>104060</td>\n",
       "      <td>['ESRB - E', 'PEGI - Three', 'GRAC - GRAC_ALL'...</td>\n",
       "      <td>2018-06-18 05:30:00</td>\n",
       "      <td>['single-player']</td>\n",
       "      <td>['puzzle', 'strategy', 'indie', 'arcade', 'car...</td>\n",
       "      <td>['xitilon', 'flying-islands-team', 'drageus-ga...</td>\n",
       "      <td>['sokoban']</td>\n",
       "      <td>['win', 'xboxone', 'switch']</td>\n",
       "      <td>['third-person', 'bird-view-slash-isometric']</td>\n",
       "      <td>70.000000</td>\n",
       "    </tr>\n",
       "  </tbody>\n",
       "</table>\n",
       "</div>"
      ],
      "text/plain": [
       "       id                                        age_ratings  \\\n",
       "0   83466    ['ESRB - E', 'PEGI - Three', 'GRAC - GRAC_ALL']   \n",
       "1    9284                                                NaN   \n",
       "2   46722                                                NaN   \n",
       "3  129381                                                NaN   \n",
       "4  104060  ['ESRB - E', 'PEGI - Three', 'GRAC - GRAC_ALL'...   \n",
       "\n",
       "    first_release_date         game_modes  \\\n",
       "0  2020-01-16 05:30:00  ['single-player']   \n",
       "1  2014-11-28 05:30:00  ['single-player']   \n",
       "2  2014-12-01 05:30:00  ['single-player']   \n",
       "3  2020-01-28 05:30:00  ['single-player']   \n",
       "4  2018-06-18 05:30:00  ['single-player']   \n",
       "\n",
       "                                              genres  \\\n",
       "0  ['puzzle', 'strategy', 'turn-based-strategy-tb...   \n",
       "1                 ['platform', 'adventure', 'indie']   \n",
       "2         ['role-playing-rpg', 'adventure', 'indie']   \n",
       "3                             ['adventure', 'indie']   \n",
       "4  ['puzzle', 'strategy', 'indie', 'arcade', 'car...   \n",
       "\n",
       "                                  involved_companies  \\\n",
       "0                                  ['baltoro-games']   \n",
       "1                                       ['grynsoft']   \n",
       "2                                      ['focaslens']   \n",
       "3                                                NaN   \n",
       "4  ['xitilon', 'flying-islands-team', 'drageus-ga...   \n",
       "\n",
       "                                            keywords  \\\n",
       "0                                                NaN   \n",
       "1  ['difficult', 'female-protagonist', 'action-ad...   \n",
       "2  ['zombies', 'hell', 'vampire', 'magic', '2d', ...   \n",
       "3                                                NaN   \n",
       "4                                        ['sokoban']   \n",
       "\n",
       "                      platforms  \\\n",
       "0                    ['switch']   \n",
       "1                       ['win']   \n",
       "2                       ['win']   \n",
       "3                       ['win']   \n",
       "4  ['win', 'xboxone', 'switch']   \n",
       "\n",
       "                             player_perspectives  total_rating  \n",
       "0                                            NaN     70.000000  \n",
       "1                                  ['side-view']     70.151379  \n",
       "2                  ['bird-view-slash-isometric']     89.858497  \n",
       "3                                            NaN     70.000000  \n",
       "4  ['third-person', 'bird-view-slash-isometric']     70.000000  "
      ]
     },
     "execution_count": 7,
     "metadata": {},
     "output_type": "execute_result"
    }
   ],
   "source": [
    "data.head()"
   ]
  },
  {
   "cell_type": "code",
   "execution_count": 8,
   "metadata": {},
   "outputs": [
    {
     "data": {
      "text/plain": [
       "id                        0\n",
       "age_ratings            6549\n",
       "first_release_date        0\n",
       "game_modes             1253\n",
       "genres                  345\n",
       "involved_companies     2918\n",
       "keywords               6116\n",
       "platforms                 0\n",
       "player_perspectives    5819\n",
       "total_rating              0\n",
       "dtype: int64"
      ]
     },
     "execution_count": 8,
     "metadata": {},
     "output_type": "execute_result"
    }
   ],
   "source": [
    "data.isnull().sum()"
   ]
  },
  {
   "cell_type": "code",
   "execution_count": 9,
   "metadata": {},
   "outputs": [],
   "source": [
    "data = data.dropna(subset=['genres'])"
   ]
  },
  {
   "cell_type": "code",
   "execution_count": 10,
   "metadata": {},
   "outputs": [
    {
     "data": {
      "text/plain": [
       "(15986, 10)"
      ]
     },
     "execution_count": 10,
     "metadata": {},
     "output_type": "execute_result"
    }
   ],
   "source": [
    "data.shape"
   ]
  },
  {
   "cell_type": "code",
   "execution_count": 11,
   "metadata": {},
   "outputs": [
    {
     "data": {
      "text/plain": [
       "id                        0\n",
       "age_ratings            6367\n",
       "first_release_date        0\n",
       "game_modes             1068\n",
       "genres                    0\n",
       "involved_companies     2717\n",
       "keywords               5854\n",
       "platforms                 0\n",
       "player_perspectives    5509\n",
       "total_rating              0\n",
       "dtype: int64"
      ]
     },
     "execution_count": 11,
     "metadata": {},
     "output_type": "execute_result"
    }
   ],
   "source": [
    "data.isnull().sum()"
   ]
  },
  {
   "cell_type": "code",
   "execution_count": 12,
   "metadata": {},
   "outputs": [
    {
     "data": {
      "text/plain": [
       "<bound method Series.unique of 0                                               ['switch']\n",
       "1                                                  ['win']\n",
       "2                                                  ['win']\n",
       "3                                                  ['win']\n",
       "4                             ['win', 'xboxone', 'switch']\n",
       "                               ...                        \n",
       "16326               ['win', 'ps4--1', 'xboxone', 'switch']\n",
       "16327    ['linux', 'win', 'mac', 'ps4--1', 'xboxone', '...\n",
       "16328    ['linux', 'win', 'mac', 'android', 'ios', 'ps4...\n",
       "16329    ['linux', 'win', 'mac', 'android', 'ios', 'psv...\n",
       "16330     ['win', 'ps4--1', 'xboxone', 'switch', 'stadia']\n",
       "Name: platforms, Length: 15986, dtype: object>"
      ]
     },
     "execution_count": 12,
     "metadata": {},
     "output_type": "execute_result"
    }
   ],
   "source": [
    "data[\"platforms\"].unique"
   ]
  },
  {
   "cell_type": "code",
   "execution_count": null,
   "metadata": {},
   "outputs": [],
   "source": []
  }
 ],
 "metadata": {
  "kernelspec": {
   "display_name": "Python 3",
   "language": "python",
   "name": "python3"
  },
  "language_info": {
   "codemirror_mode": {
    "name": "ipython",
    "version": 3
   },
   "file_extension": ".py",
   "mimetype": "text/x-python",
   "name": "python",
   "nbconvert_exporter": "python",
   "pygments_lexer": "ipython3",
   "version": "3.12.6"
  }
 },
 "nbformat": 4,
 "nbformat_minor": 2
}
